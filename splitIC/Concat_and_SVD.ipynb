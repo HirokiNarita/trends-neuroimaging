{
 "cells": [
  {
   "cell_type": "code",
   "execution_count": 22,
   "metadata": {},
   "outputs": [],
   "source": [
    "import numpy as np\n",
    "import pandas as pd\n",
    "\n",
    "from scipy.sparse import load_npz\n",
    "from scipy import sparse\n",
    "from sklearn.decomposition import TruncatedSVD"
   ]
  },
  {
   "cell_type": "code",
   "execution_count": 23,
   "metadata": {},
   "outputs": [
    {
     "data": {
      "text/plain": [
       "3272"
      ]
     },
     "execution_count": 23,
     "metadata": {},
     "output_type": "execute_result"
    }
   ],
   "source": [
    "import gc\n",
    "gc.collect()"
   ]
  },
  {
   "cell_type": "code",
   "execution_count": 24,
   "metadata": {},
   "outputs": [],
   "source": [
    "input_base_path = '/media/hiroki/working/kaggle_data/trends-neuroimaging/split_IC'\n",
    "out_path = '/media/hiroki/working/kaggle_data/trends-neuroimaging/split_IC/SVD'"
   ]
  },
  {
   "cell_type": "code",
   "execution_count": 25,
   "metadata": {},
   "outputs": [],
   "source": [
    "ic1_train = load_npz(input_base_path + '/train/IC/ic1_matrix.npz')\n",
    "ic1_test = load_npz(input_base_path + '/test/IC/ic1_matrix.npz')"
   ]
  },
  {
   "cell_type": "code",
   "execution_count": 26,
   "metadata": {},
   "outputs": [],
   "source": [
    "ic1 = sparse.vstack([ic1_train, ic1_test])"
   ]
  },
  {
   "cell_type": "code",
   "execution_count": 27,
   "metadata": {},
   "outputs": [],
   "source": [
    "del ic1_train, ic1_test"
   ]
  },
  {
   "cell_type": "code",
   "execution_count": 28,
   "metadata": {},
   "outputs": [
    {
     "data": {
      "text/plain": [
       "<11754x173628 sparse matrix of type '<class 'numpy.float64'>'\n",
       "\twith 691946226 stored elements in Compressed Sparse Row format>"
      ]
     },
     "execution_count": 28,
     "metadata": {},
     "output_type": "execute_result"
    }
   ],
   "source": [
    "ic1"
   ]
  },
  {
   "cell_type": "code",
   "execution_count": 29,
   "metadata": {},
   "outputs": [
    {
     "name": "stdout",
     "output_type": "stream",
     "text": [
      "CPU times: user 4min 11s, sys: 288 ms, total: 4min 11s\n",
      "Wall time: 4min 10s\n"
     ]
    }
   ],
   "source": [
    "%%time\n",
    "svd = TruncatedSVD(n_components=30, random_state=42)\n",
    "decomp_ic1 = svd.fit_transform(ic1)\n",
    "del ic1"
   ]
  },
  {
   "cell_type": "markdown",
   "metadata": {},
   "source": [
    "CPU times: user 2min 28s, sys: 86.3 ms, total: 2min 28s\n",
    "Wall time: 2min 27s"
   ]
  },
  {
   "cell_type": "code",
   "execution_count": 19,
   "metadata": {},
   "outputs": [
    {
     "data": {
      "text/plain": [
       "array([0.01483676, 0.0163475 , 0.00539418, 0.00363033, 0.00246295,\n",
       "       0.00207645, 0.00170548, 0.00166786, 0.00157847, 0.00148   ,\n",
       "       0.00141285, 0.00140765, 0.00130038, 0.00127598, 0.00124614,\n",
       "       0.00122619, 0.0012035 , 0.00118402, 0.00117571, 0.00114885,\n",
       "       0.00113265, 0.00110651, 0.00108613, 0.00107692, 0.0010696 ,\n",
       "       0.00104455, 0.00104243, 0.00102756, 0.00102043, 0.0010147 ,\n",
       "       0.00100813, 0.00099314, 0.00099061, 0.00097962, 0.00097252,\n",
       "       0.0009719 , 0.0009678 , 0.00095952, 0.00095862, 0.00094534,\n",
       "       0.00094489, 0.0009351 , 0.0009306 , 0.00092676, 0.0009216 ,\n",
       "       0.00091647, 0.00091366, 0.00090796, 0.00090592, 0.0009002 ,\n",
       "       0.00089533, 0.00089385, 0.00088946, 0.00088601, 0.00088463,\n",
       "       0.0008823 , 0.00087851, 0.00087677, 0.0008724 , 0.0008674 ,\n",
       "       0.00086108, 0.00085899, 0.00085479, 0.00085112, 0.00084652,\n",
       "       0.00084464, 0.0008415 , 0.00083513, 0.0008344 , 0.0008327 ,\n",
       "       0.00083181, 0.00082527, 0.00082014, 0.00081899, 0.00081544,\n",
       "       0.00081238, 0.0008105 , 0.00080698, 0.00080441, 0.00080241,\n",
       "       0.00080024, 0.0007992 , 0.00079603, 0.00079297, 0.0007912 ,\n",
       "       0.00078502, 0.00078299, 0.00077991, 0.00077774, 0.00077566,\n",
       "       0.00077236, 0.00077146, 0.00076953, 0.00076616, 0.00076317,\n",
       "       0.00075989, 0.00075778, 0.00075384, 0.00074941, 0.00074868])"
      ]
     },
     "execution_count": 19,
     "metadata": {},
     "output_type": "execute_result"
    }
   ],
   "source": [
    "svd.explained_variance_ratio_.sum()"
   ]
  },
  {
   "cell_type": "code",
   "execution_count": 17,
   "metadata": {},
   "outputs": [],
   "source": [
    "ratio = svd.explained_variance_ratio_"
   ]
  },
  {
   "cell_type": "code",
   "execution_count": 20,
   "metadata": {},
   "outputs": [
    {
     "data": {
      "text/plain": [
       "0.13426221522496867"
      ]
     },
     "execution_count": 20,
     "metadata": {},
     "output_type": "execute_result"
    }
   ],
   "source": [
    "ratio.sum()"
   ]
  },
  {
   "cell_type": "code",
   "execution_count": 26,
   "metadata": {},
   "outputs": [],
   "source": [
    "np.save(out_path+'svd_ic1_mtx',decomp_ic1)\n",
    "del decomp_ic1"
   ]
  },
  {
   "cell_type": "code",
   "execution_count": 30,
   "metadata": {},
   "outputs": [],
   "source": [
    "svd_ic1 = np.load(out_path+'/svd_ic1_mtx.npy')"
   ]
  },
  {
   "cell_type": "code",
   "execution_count": 31,
   "metadata": {},
   "outputs": [],
   "source": [
    "svd_ic1_df = pd.DataFrame(svd_ic1,columns=['IC1_sv_0','IC1_sv_1','IC1_sv_2'])"
   ]
  },
  {
   "cell_type": "code",
   "execution_count": 32,
   "metadata": {},
   "outputs": [
    {
     "data": {
      "text/html": [
       "<div>\n",
       "<style scoped>\n",
       "    .dataframe tbody tr th:only-of-type {\n",
       "        vertical-align: middle;\n",
       "    }\n",
       "\n",
       "    .dataframe tbody tr th {\n",
       "        vertical-align: top;\n",
       "    }\n",
       "\n",
       "    .dataframe thead th {\n",
       "        text-align: right;\n",
       "    }\n",
       "</style>\n",
       "<table border=\"1\" class=\"dataframe\">\n",
       "  <thead>\n",
       "    <tr style=\"text-align: right;\">\n",
       "      <th></th>\n",
       "      <th>IC1_svd_0</th>\n",
       "      <th>IC1_svd_1</th>\n",
       "      <th>IC1_svd_2</th>\n",
       "    </tr>\n",
       "  </thead>\n",
       "  <tbody>\n",
       "    <tr>\n",
       "      <th>0</th>\n",
       "      <td>171.218424</td>\n",
       "      <td>-6.427769</td>\n",
       "      <td>-9.923038</td>\n",
       "    </tr>\n",
       "    <tr>\n",
       "      <th>1</th>\n",
       "      <td>183.244780</td>\n",
       "      <td>-50.385175</td>\n",
       "      <td>7.093901</td>\n",
       "    </tr>\n",
       "    <tr>\n",
       "      <th>2</th>\n",
       "      <td>176.161957</td>\n",
       "      <td>-7.524484</td>\n",
       "      <td>-10.002003</td>\n",
       "    </tr>\n",
       "    <tr>\n",
       "      <th>3</th>\n",
       "      <td>181.348800</td>\n",
       "      <td>-14.650756</td>\n",
       "      <td>-17.043148</td>\n",
       "    </tr>\n",
       "    <tr>\n",
       "      <th>4</th>\n",
       "      <td>180.138250</td>\n",
       "      <td>-5.162861</td>\n",
       "      <td>-9.383822</td>\n",
       "    </tr>\n",
       "    <tr>\n",
       "      <th>...</th>\n",
       "      <td>...</td>\n",
       "      <td>...</td>\n",
       "      <td>...</td>\n",
       "    </tr>\n",
       "    <tr>\n",
       "      <th>11749</th>\n",
       "      <td>180.950685</td>\n",
       "      <td>-40.158520</td>\n",
       "      <td>-2.057099</td>\n",
       "    </tr>\n",
       "    <tr>\n",
       "      <th>11750</th>\n",
       "      <td>176.745390</td>\n",
       "      <td>15.437133</td>\n",
       "      <td>-14.263656</td>\n",
       "    </tr>\n",
       "    <tr>\n",
       "      <th>11751</th>\n",
       "      <td>169.971154</td>\n",
       "      <td>12.118586</td>\n",
       "      <td>25.889939</td>\n",
       "    </tr>\n",
       "    <tr>\n",
       "      <th>11752</th>\n",
       "      <td>160.253248</td>\n",
       "      <td>11.686251</td>\n",
       "      <td>15.355906</td>\n",
       "    </tr>\n",
       "    <tr>\n",
       "      <th>11753</th>\n",
       "      <td>175.428320</td>\n",
       "      <td>9.331824</td>\n",
       "      <td>18.620801</td>\n",
       "    </tr>\n",
       "  </tbody>\n",
       "</table>\n",
       "<p>11754 rows × 3 columns</p>\n",
       "</div>"
      ],
      "text/plain": [
       "        IC1_svd_0  IC1_svd_1  IC1_svd_2\n",
       "0      171.218424  -6.427769  -9.923038\n",
       "1      183.244780 -50.385175   7.093901\n",
       "2      176.161957  -7.524484 -10.002003\n",
       "3      181.348800 -14.650756 -17.043148\n",
       "4      180.138250  -5.162861  -9.383822\n",
       "...           ...        ...        ...\n",
       "11749  180.950685 -40.158520  -2.057099\n",
       "11750  176.745390  15.437133 -14.263656\n",
       "11751  169.971154  12.118586  25.889939\n",
       "11752  160.253248  11.686251  15.355906\n",
       "11753  175.428320   9.331824  18.620801\n",
       "\n",
       "[11754 rows x 3 columns]"
      ]
     },
     "execution_count": 32,
     "metadata": {},
     "output_type": "execute_result"
    }
   ],
   "source": [
    "svd_ic1_df"
   ]
  },
  {
   "cell_type": "markdown",
   "metadata": {},
   "source": [
    "# run all SVD"
   ]
  },
  {
   "cell_type": "code",
   "execution_count": 6,
   "metadata": {},
   "outputs": [
    {
     "name": "stdout",
     "output_type": "stream",
     "text": [
      "CPU times: user 1h 31min 44s, sys: 2min 15s, total: 1h 34min\n",
      "Wall time: 1h 36min 1s\n"
     ]
    }
   ],
   "source": [
    "%%time\n",
    "svd_ic_dfs = pd.DataFrame()\n",
    "for num in range(1,54):\n",
    "    ic_train = load_npz(input_base_path + '/train/IC/ic{}_matrix.npz'.format(num))\n",
    "    ic_test = load_npz(input_base_path + '/test/IC/ic{}_matrix.npz'.format(num))\n",
    "    ic = sparse.vstack([ic_train, ic_test])\n",
    "    del ic_train, ic_test\n",
    "    \n",
    "    svd = TruncatedSVD(n_components=3, random_state=42)\n",
    "    decomp_ic = svd.fit_transform(ic)\n",
    "    del ic\n",
    "    if num == 1:\n",
    "        svd_ic_dfs = pd.DataFrame(\n",
    "            decomp_ic,columns=['IC{}_sv_0'format(num),'IC{}_sv_1'.format(num),'IC{}_sv_2'.format(num)]\n",
    "        )\n",
    "    else:\n",
    "        svd_ic_df = pd.DataFrame(\n",
    "            decomp_ic,columns=['IC{}_sv_0'.format(num),'IC{}_sv_1'.format(num),'IC{}_sv_2'.format(num)]\n",
    "        )\n",
    "        svd_ic_dfs = pd.concat([svd_ic_dfs,svd_ic_df], axis=1)\n",
    "svd_ic_dfs.to_csv('image_svd_features.csv')"
   ]
  },
  {
   "cell_type": "code",
   "execution_count": null,
   "metadata": {},
   "outputs": [],
   "source": []
  }
 ],
 "metadata": {
  "kernelspec": {
   "display_name": "Python 3",
   "language": "python",
   "name": "python3"
  },
  "language_info": {
   "codemirror_mode": {
    "name": "ipython",
    "version": 3
   },
   "file_extension": ".py",
   "mimetype": "text/x-python",
   "name": "python",
   "nbconvert_exporter": "python",
   "pygments_lexer": "ipython3",
   "version": "3.7.7"
  }
 },
 "nbformat": 4,
 "nbformat_minor": 4
}
