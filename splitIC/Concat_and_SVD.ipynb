{
 "cells": [
  {
   "cell_type": "code",
   "execution_count": 1,
   "metadata": {},
   "outputs": [],
   "source": [
    "import numpy as np\n",
    "import pandas as pd\n",
    "\n",
    "from scipy.sparse import load_npz\n",
    "from scipy import sparse\n",
    "from sklearn.decomposition import TruncatedSVD"
   ]
  },
  {
   "cell_type": "code",
   "execution_count": 2,
   "metadata": {},
   "outputs": [
    {
     "data": {
      "text/plain": [
       "20"
      ]
     },
     "execution_count": 2,
     "metadata": {},
     "output_type": "execute_result"
    }
   ],
   "source": [
    "import gc\n",
    "gc.collect()"
   ]
  },
  {
   "cell_type": "code",
   "execution_count": 3,
   "metadata": {},
   "outputs": [],
   "source": [
    "input_base_path = '/media/hiroki/working/kaggle_data/trends-neuroimaging/split_IC'\n",
    "out_path = '/media/hiroki/working/kaggle_data/trends-neuroimaging/split_IC/SVD'"
   ]
  },
  {
   "cell_type": "markdown",
   "metadata": {},
   "source": [
    "# run all SVD"
   ]
  },
  {
   "cell_type": "code",
   "execution_count": 4,
   "metadata": {},
   "outputs": [],
   "source": [
    "import cudf\n",
    "import cupy as cp\n",
    "#from cuml.decomposition import TruncatedSVD"
   ]
  },
  {
   "cell_type": "code",
   "execution_count": 5,
   "metadata": {},
   "outputs": [],
   "source": [
    "out_base_path = \"/media/hiroki/working/kaggle_data/trends-neuroimaging/split_IC/svd/\""
   ]
  },
  {
   "cell_type": "code",
   "execution_count": null,
   "metadata": {},
   "outputs": [
    {
     "name": "stdout",
     "output_type": "stream",
     "text": [
      "success : 2\n",
      "success : 3\n",
      "success : 4\n",
      "success : 5\n",
      "success : 6\n",
      "success : 7\n",
      "success : 8\n",
      "success : 9\n",
      "success : 10\n",
      "success : 11\n",
      "success : 12\n",
      "success : 13\n",
      "success : 14\n"
     ]
    }
   ],
   "source": [
    "%%time\n",
    "svd_ic_dfs = pd.DataFrame()\n",
    "for num in range(2,54):\n",
    "    ic_train = load_npz(input_base_path + '/train/IC/ic{}_matrix.npz'.format(num))\n",
    "    ic_test = load_npz(input_base_path + '/test/IC/ic{}_matrix.npz'.format(num))\n",
    "    ic = sparse.vstack([ic_train, ic_test])\n",
    "    del ic_train, ic_test\n",
    "    gc.collect()\n",
    "    svd = TruncatedSVD(n_components=500, random_state=2020)\n",
    "    decomp_ic = svd.fit_transform(ic)\n",
    "    del ic\n",
    "    gc.collect()\n",
    "    np.save(out_base_path+\"/ic_{}.npz\".format(num), decomp_ic)\n",
    "    print(\"success : {}\".format(num))\n",
    "    del decomp_ic\n",
    "    gc.collect()"
   ]
  },
  {
   "cell_type": "code",
   "execution_count": null,
   "metadata": {},
   "outputs": [],
   "source": []
  }
 ],
 "metadata": {
  "kernelspec": {
   "display_name": "Python 3",
   "language": "python",
   "name": "python3"
  },
  "language_info": {
   "codemirror_mode": {
    "name": "ipython",
    "version": 3
   },
   "file_extension": ".py",
   "mimetype": "text/x-python",
   "name": "python",
   "nbconvert_exporter": "python",
   "pygments_lexer": "ipython3",
   "version": "3.7.6"
  }
 },
 "nbformat": 4,
 "nbformat_minor": 4
}
