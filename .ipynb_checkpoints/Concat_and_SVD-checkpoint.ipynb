{
 "cells": [
  {
   "cell_type": "code",
   "execution_count": 48,
   "metadata": {},
   "outputs": [],
   "source": [
    "import numpy as np\n",
    "import pandas as pd\n",
    "\n",
    "from scipy.sparse import load_npz\n",
    "from scipy import sparse\n",
    "from sklearn.decomposition import TruncatedSVD"
   ]
  },
  {
   "cell_type": "code",
   "execution_count": 49,
   "metadata": {},
   "outputs": [
    {
     "data": {
      "text/plain": [
       "12724"
      ]
     },
     "execution_count": 49,
     "metadata": {},
     "output_type": "execute_result"
    }
   ],
   "source": [
    "import gc\n",
    "gc.collect()"
   ]
  },
  {
   "cell_type": "code",
   "execution_count": 50,
   "metadata": {},
   "outputs": [],
   "source": [
    "input_base_path = '/media/hiroki/working/kaggle_data/trends-neuroimaging/split_IC'\n",
    "out_path = '/media/hiroki/working/kaggle_data/trends-neuroimaging/split_IC/SVD'"
   ]
  },
  {
   "cell_type": "code",
   "execution_count": 51,
   "metadata": {},
   "outputs": [],
   "source": [
    "ic1_train = load_npz(input_base_path + '/train/IC/ic1_matrix.npz')\n",
    "ic1_test = load_npz(input_base_path + '/test/IC/ic1_matrix.npz')"
   ]
  },
  {
   "cell_type": "code",
   "execution_count": 52,
   "metadata": {},
   "outputs": [],
   "source": [
    "ic1 = sparse.vstack([ic1_train, ic1_test])"
   ]
  },
  {
   "cell_type": "code",
   "execution_count": 53,
   "metadata": {},
   "outputs": [],
   "source": [
    "del ic1_train, ic1_test"
   ]
  },
  {
   "cell_type": "code",
   "execution_count": 54,
   "metadata": {},
   "outputs": [
    {
     "data": {
      "text/plain": [
       "<11754x173628 sparse matrix of type '<class 'numpy.float64'>'\n",
       "\twith 691946226 stored elements in Compressed Sparse Row format>"
      ]
     },
     "execution_count": 54,
     "metadata": {},
     "output_type": "execute_result"
    }
   ],
   "source": [
    "ic1"
   ]
  },
  {
   "cell_type": "code",
   "execution_count": 55,
   "metadata": {},
   "outputs": [
    {
     "name": "stdout",
     "output_type": "stream",
     "text": [
      "CPU times: user 1min 19s, sys: 105 ms, total: 1min 19s\n",
      "Wall time: 1min 20s\n"
     ]
    }
   ],
   "source": [
    "%%time\n",
    "svd = TruncatedSVD(n_components=1000, random_state=42)\n",
    "decomp_ic1 = svd.fit_transform(ic1)\n",
    "del ic1"
   ]
  },
  {
   "cell_type": "markdown",
   "metadata": {},
   "source": [
    "CPU times: user 2min 28s, sys: 86.3 ms, total: 2min 28s\n",
    "Wall time: 2min 27s"
   ]
  },
  {
   "cell_type": "code",
   "execution_count": 56,
   "metadata": {},
   "outputs": [],
   "source": [
    "ratio = svd.explained_variance_ratio_"
   ]
  },
  {
   "cell_type": "code",
   "execution_count": 57,
   "metadata": {},
   "outputs": [
    {
     "data": {
      "text/plain": [
       "0.036578438327167444"
      ]
     },
     "execution_count": 57,
     "metadata": {},
     "output_type": "execute_result"
    }
   ],
   "source": [
    "ratio.sum()"
   ]
  },
  {
   "cell_type": "code",
   "execution_count": 26,
   "metadata": {},
   "outputs": [],
   "source": [
    "np.save(out_path+'svd_ic1_mtx',decomp_ic1)\n",
    "del decomp_ic1"
   ]
  },
  {
   "cell_type": "code",
   "execution_count": 30,
   "metadata": {},
   "outputs": [],
   "source": [
    "svd_ic1 = np.load(out_path+'/svd_ic1_mtx.npy')"
   ]
  },
  {
   "cell_type": "code",
   "execution_count": 31,
   "metadata": {},
   "outputs": [],
   "source": [
    "svd_ic1_df = pd.DataFrame(svd_ic1,columns=['IC1_sv_0','IC1_sv_1','IC1_sv_2'])"
   ]
  },
  {
   "cell_type": "code",
   "execution_count": 32,
   "metadata": {},
   "outputs": [
    {
     "data": {
      "text/html": [
       "<div>\n",
       "<style scoped>\n",
       "    .dataframe tbody tr th:only-of-type {\n",
       "        vertical-align: middle;\n",
       "    }\n",
       "\n",
       "    .dataframe tbody tr th {\n",
       "        vertical-align: top;\n",
       "    }\n",
       "\n",
       "    .dataframe thead th {\n",
       "        text-align: right;\n",
       "    }\n",
       "</style>\n",
       "<table border=\"1\" class=\"dataframe\">\n",
       "  <thead>\n",
       "    <tr style=\"text-align: right;\">\n",
       "      <th></th>\n",
       "      <th>IC1_svd_0</th>\n",
       "      <th>IC1_svd_1</th>\n",
       "      <th>IC1_svd_2</th>\n",
       "    </tr>\n",
       "  </thead>\n",
       "  <tbody>\n",
       "    <tr>\n",
       "      <th>0</th>\n",
       "      <td>171.218424</td>\n",
       "      <td>-6.427769</td>\n",
       "      <td>-9.923038</td>\n",
       "    </tr>\n",
       "    <tr>\n",
       "      <th>1</th>\n",
       "      <td>183.244780</td>\n",
       "      <td>-50.385175</td>\n",
       "      <td>7.093901</td>\n",
       "    </tr>\n",
       "    <tr>\n",
       "      <th>2</th>\n",
       "      <td>176.161957</td>\n",
       "      <td>-7.524484</td>\n",
       "      <td>-10.002003</td>\n",
       "    </tr>\n",
       "    <tr>\n",
       "      <th>3</th>\n",
       "      <td>181.348800</td>\n",
       "      <td>-14.650756</td>\n",
       "      <td>-17.043148</td>\n",
       "    </tr>\n",
       "    <tr>\n",
       "      <th>4</th>\n",
       "      <td>180.138250</td>\n",
       "      <td>-5.162861</td>\n",
       "      <td>-9.383822</td>\n",
       "    </tr>\n",
       "    <tr>\n",
       "      <th>...</th>\n",
       "      <td>...</td>\n",
       "      <td>...</td>\n",
       "      <td>...</td>\n",
       "    </tr>\n",
       "    <tr>\n",
       "      <th>11749</th>\n",
       "      <td>180.950685</td>\n",
       "      <td>-40.158520</td>\n",
       "      <td>-2.057099</td>\n",
       "    </tr>\n",
       "    <tr>\n",
       "      <th>11750</th>\n",
       "      <td>176.745390</td>\n",
       "      <td>15.437133</td>\n",
       "      <td>-14.263656</td>\n",
       "    </tr>\n",
       "    <tr>\n",
       "      <th>11751</th>\n",
       "      <td>169.971154</td>\n",
       "      <td>12.118586</td>\n",
       "      <td>25.889939</td>\n",
       "    </tr>\n",
       "    <tr>\n",
       "      <th>11752</th>\n",
       "      <td>160.253248</td>\n",
       "      <td>11.686251</td>\n",
       "      <td>15.355906</td>\n",
       "    </tr>\n",
       "    <tr>\n",
       "      <th>11753</th>\n",
       "      <td>175.428320</td>\n",
       "      <td>9.331824</td>\n",
       "      <td>18.620801</td>\n",
       "    </tr>\n",
       "  </tbody>\n",
       "</table>\n",
       "<p>11754 rows × 3 columns</p>\n",
       "</div>"
      ],
      "text/plain": [
       "        IC1_svd_0  IC1_svd_1  IC1_svd_2\n",
       "0      171.218424  -6.427769  -9.923038\n",
       "1      183.244780 -50.385175   7.093901\n",
       "2      176.161957  -7.524484 -10.002003\n",
       "3      181.348800 -14.650756 -17.043148\n",
       "4      180.138250  -5.162861  -9.383822\n",
       "...           ...        ...        ...\n",
       "11749  180.950685 -40.158520  -2.057099\n",
       "11750  176.745390  15.437133 -14.263656\n",
       "11751  169.971154  12.118586  25.889939\n",
       "11752  160.253248  11.686251  15.355906\n",
       "11753  175.428320   9.331824  18.620801\n",
       "\n",
       "[11754 rows x 3 columns]"
      ]
     },
     "execution_count": 32,
     "metadata": {},
     "output_type": "execute_result"
    }
   ],
   "source": [
    "svd_ic1_df"
   ]
  },
  {
   "cell_type": "code",
   "execution_count": null,
   "metadata": {},
   "outputs": [],
   "source": []
  }
 ],
 "metadata": {
  "kernelspec": {
   "display_name": "Python 3",
   "language": "python",
   "name": "python3"
  },
  "language_info": {
   "codemirror_mode": {
    "name": "ipython",
    "version": 3
   },
   "file_extension": ".py",
   "mimetype": "text/x-python",
   "name": "python",
   "nbconvert_exporter": "python",
   "pygments_lexer": "ipython3",
   "version": "3.7.7"
  }
 },
 "nbformat": 4,
 "nbformat_minor": 4
}
