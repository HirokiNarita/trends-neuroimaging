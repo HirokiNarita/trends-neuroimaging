{
 "cells": [
  {
   "cell_type": "code",
   "execution_count": 23,
   "metadata": {},
   "outputs": [],
   "source": [
    "import numpy as np\n",
    "import pandas as pd\n",
    "\n",
    "import matplotlib.pyplot as plt\n",
    "import seaborn as sns"
   ]
  },
  {
   "cell_type": "code",
   "execution_count": 25,
   "metadata": {},
   "outputs": [],
   "source": [
    "stack_submit = pd.read_csv('/media/hiroki/working/kaggle/trends-neuroimaging/models/submit/stacking/stacking_pre_test_df.csv')"
   ]
  },
  {
   "cell_type": "code",
   "execution_count": 26,
   "metadata": {},
   "outputs": [],
   "source": [
    "pre_3dcnn  = np.load('/media/hiroki/working/kaggle/trends-neuroimaging/ensemble/3dcnn/pred.npz')"
   ]
  },
  {
   "cell_type": "code",
   "execution_count": 28,
   "metadata": {},
   "outputs": [],
   "source": [
    "pre_3dcnn_df = pd.DataFrame(pre_3dcnn[\"y_pred\"][:,1:], )"
   ]
  },
  {
   "cell_type": "code",
   "execution_count": 29,
   "metadata": {},
   "outputs": [
    {
     "data": {
      "text/plain": [
       "array([[23.55394 , 22.89793 , 22.777983, 21.700644],\n",
       "       [23.522106, 22.866488, 22.750994, 21.674305],\n",
       "       [23.533169, 22.879473, 22.761917, 21.682898],\n",
       "       ...,\n",
       "       [23.52497 , 22.86885 , 22.754927, 21.674147],\n",
       "       [23.548527, 22.891626, 22.773802, 21.695356],\n",
       "       [23.5051  , 22.846834, 22.736414, 21.653898]], dtype=float32)"
      ]
     },
     "execution_count": 29,
     "metadata": {},
     "output_type": "execute_result"
    }
   ],
   "source": [
    "pre_3dcnn_df"
   ]
  },
  {
   "cell_type": "code",
   "execution_count": null,
   "metadata": {},
   "outputs": [],
   "source": []
  }
 ],
 "metadata": {
  "kernelspec": {
   "display_name": "Python 3",
   "language": "python",
   "name": "python3"
  },
  "language_info": {
   "codemirror_mode": {
    "name": "ipython",
    "version": 3
   },
   "file_extension": ".py",
   "mimetype": "text/x-python",
   "name": "python",
   "nbconvert_exporter": "python",
   "pygments_lexer": "ipython3",
   "version": "3.7.6"
  }
 },
 "nbformat": 4,
 "nbformat_minor": 4
}
