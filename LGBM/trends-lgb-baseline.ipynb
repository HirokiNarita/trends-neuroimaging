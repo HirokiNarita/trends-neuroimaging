{
 "cells": [
  {
   "cell_type": "markdown",
   "metadata": {},
   "source": [
    "# Library"
   ]
  },
  {
   "cell_type": "code",
   "execution_count": 1,
   "metadata": {
    "_cell_guid": "b1076dfc-b9ad-4769-8c92-a6c4dae69d19",
    "_uuid": "8f2839f25d086af736a60e9eeb907d3b93b6e0e5"
   },
   "outputs": [],
   "source": [
    "#===========================================================\n",
    "# Library\n",
    "#===========================================================\n",
    "import os\n",
    "import gc\n",
    "from logging import getLogger, INFO, StreamHandler, FileHandler, Formatter\n",
    "from contextlib import contextmanager\n",
    "import time\n",
    "\n",
    "import numpy as np\n",
    "import pandas as pd\n",
    "import scipy as sp\n",
    "import random\n",
    "\n",
    "import matplotlib.pyplot as plt\n",
    "import seaborn as sns\n",
    "\n",
    "from functools import partial\n",
    "\n",
    "from sklearn.model_selection import StratifiedKFold, GroupKFold, KFold\n",
    "from sklearn import preprocessing\n",
    "import category_encoders as ce\n",
    "from sklearn.metrics import mean_squared_error\n",
    "\n",
    "import torch\n",
    "\n",
    "import lightgbm as lgb\n",
    "\n",
    "import warnings\n",
    "warnings.filterwarnings(\"ignore\")"
   ]
  },
  {
   "cell_type": "markdown",
   "metadata": {},
   "source": [
    "# Utils"
   ]
  },
  {
   "cell_type": "code",
   "execution_count": 2,
   "metadata": {},
   "outputs": [],
   "source": [
    "#===========================================================\n",
    "# Utils\n",
    "#===========================================================\n",
    "def get_logger(filename='log'):\n",
    "    logger = getLogger(__name__)\n",
    "    logger.setLevel(INFO)\n",
    "    handler1 = StreamHandler()\n",
    "    handler1.setFormatter(Formatter(\"%(message)s\"))\n",
    "    handler2 = FileHandler(filename=f\"{filename}.log\")\n",
    "    handler2.setFormatter(Formatter(\"%(message)s\"))\n",
    "    logger.addHandler(handler1)\n",
    "    logger.addHandler(handler2)\n",
    "    return logger\n",
    "\n",
    "logger = get_logger()\n",
    "\n",
    "\n",
    "@contextmanager\n",
    "def timer(name):\n",
    "    t0 = time.time()\n",
    "    yield\n",
    "    logger.info(f'[{name}] done in {time.time() - t0:.0f} s')\n",
    "\n",
    "\n",
    "def seed_everything(seed=42):\n",
    "    random.seed(seed)\n",
    "    os.environ['PYTHONHASHSEED'] = str(seed)\n",
    "    np.random.seed(seed)\n",
    "    torch.manual_seed(seed)\n",
    "    torch.cuda.manual_seed(seed)\n",
    "    torch.backends.cudnn.deterministic = True\n",
    "\n",
    "    \n",
    "def load_df(path, df_name, debug=False):\n",
    "    if path.split('.')[-1]=='csv':\n",
    "        df = pd.read_csv(path)\n",
    "        if debug:\n",
    "            df = pd.read_csv(path, nrows=1000)\n",
    "    elif path.split('.')[-1]=='pkl':\n",
    "        df = pd.read_pickle(path)\n",
    "    if logger==None:\n",
    "        print(f\"{df_name} shape / {df.shape} \")\n",
    "    else:\n",
    "        logger.info(f\"{df_name} shape / {df.shape} \")\n",
    "    return df"
   ]
  },
  {
   "cell_type": "markdown",
   "metadata": {},
   "source": [
    "# Config"
   ]
  },
  {
   "cell_type": "code",
   "execution_count": 3,
   "metadata": {},
   "outputs": [],
   "source": [
    "#===========================================================\n",
    "# Config\n",
    "#===========================================================\n",
    "OUTPUT_DICT = ''\n",
    "\n",
    "ID = 'Id'\n",
    "TARGET_COLS = ['age', 'domain1_var1', 'domain1_var2', 'domain2_var1', 'domain2_var2']\n",
    "SEED = 42\n",
    "seed_everything(seed=SEED)\n",
    "\n",
    "N_FOLD = 5"
   ]
  },
  {
   "cell_type": "markdown",
   "metadata": {},
   "source": [
    "# Data Loading"
   ]
  },
  {
   "cell_type": "code",
   "execution_count": 4,
   "metadata": {},
   "outputs": [],
   "source": [
    "base_path = '/media/hiroki/share/kaggle_data/trends-assessment-prediction/'\n",
    "train = pd.read_csv(base_path+'train_scores.csv', dtype={'Id':str})\\\n",
    "            .dropna().reset_index(drop=True) # to make things easy\n",
    "reveal_ID = pd.read_csv(base_path+'reveal_ID_site2.csv', dtype={'Id':str})\n",
    "ICN_numbers = pd.read_csv(base_path+'ICN_numbers.csv')\n",
    "loading = pd.read_csv(base_path+'loading.csv', dtype={'Id':str})\n",
    "fnc = pd.read_csv(base_path+'fnc.csv', dtype={'Id':str})\n",
    "sample_submission = pd.read_csv(base_path+'sample_submission.csv', dtype={'Id':str})\n",
    "svd = pd.read_csv(base_path+'image_svd_features.csv', dtype={'Id':str})"
   ]
  },
  {
   "cell_type": "code",
   "execution_count": 5,
   "metadata": {},
   "outputs": [
    {
     "data": {
      "text/html": [
       "<div>\n",
       "<style scoped>\n",
       "    .dataframe tbody tr th:only-of-type {\n",
       "        vertical-align: middle;\n",
       "    }\n",
       "\n",
       "    .dataframe tbody tr th {\n",
       "        vertical-align: top;\n",
       "    }\n",
       "\n",
       "    .dataframe thead th {\n",
       "        text-align: right;\n",
       "    }\n",
       "</style>\n",
       "<table border=\"1\" class=\"dataframe\">\n",
       "  <thead>\n",
       "    <tr style=\"text-align: right;\">\n",
       "      <th></th>\n",
       "      <th>Id</th>\n",
       "      <th>age</th>\n",
       "      <th>domain1_var1</th>\n",
       "      <th>domain1_var2</th>\n",
       "      <th>domain2_var1</th>\n",
       "      <th>domain2_var2</th>\n",
       "    </tr>\n",
       "  </thead>\n",
       "  <tbody>\n",
       "    <tr>\n",
       "      <th>0</th>\n",
       "      <td>10001</td>\n",
       "      <td>57.436077</td>\n",
       "      <td>30.571975</td>\n",
       "      <td>62.553736</td>\n",
       "      <td>53.325130</td>\n",
       "      <td>51.427998</td>\n",
       "    </tr>\n",
       "    <tr>\n",
       "      <th>1</th>\n",
       "      <td>10002</td>\n",
       "      <td>59.580851</td>\n",
       "      <td>50.969456</td>\n",
       "      <td>67.470628</td>\n",
       "      <td>60.651856</td>\n",
       "      <td>58.311361</td>\n",
       "    </tr>\n",
       "    <tr>\n",
       "      <th>2</th>\n",
       "      <td>10004</td>\n",
       "      <td>71.413018</td>\n",
       "      <td>53.152498</td>\n",
       "      <td>58.012103</td>\n",
       "      <td>52.418389</td>\n",
       "      <td>62.536641</td>\n",
       "    </tr>\n",
       "    <tr>\n",
       "      <th>3</th>\n",
       "      <td>10007</td>\n",
       "      <td>38.617381</td>\n",
       "      <td>49.197021</td>\n",
       "      <td>65.674285</td>\n",
       "      <td>40.151376</td>\n",
       "      <td>34.096421</td>\n",
       "    </tr>\n",
       "    <tr>\n",
       "      <th>4</th>\n",
       "      <td>10008</td>\n",
       "      <td>35.326582</td>\n",
       "      <td>15.769168</td>\n",
       "      <td>65.782269</td>\n",
       "      <td>44.643805</td>\n",
       "      <td>50.448485</td>\n",
       "    </tr>\n",
       "  </tbody>\n",
       "</table>\n",
       "</div>"
      ],
      "text/plain": [
       "      Id        age  domain1_var1  domain1_var2  domain2_var1  domain2_var2\n",
       "0  10001  57.436077     30.571975     62.553736     53.325130     51.427998\n",
       "1  10002  59.580851     50.969456     67.470628     60.651856     58.311361\n",
       "2  10004  71.413018     53.152498     58.012103     52.418389     62.536641\n",
       "3  10007  38.617381     49.197021     65.674285     40.151376     34.096421\n",
       "4  10008  35.326582     15.769168     65.782269     44.643805     50.448485"
      ]
     },
     "execution_count": 5,
     "metadata": {},
     "output_type": "execute_result"
    }
   ],
   "source": [
    "train.head()"
   ]
  },
  {
   "cell_type": "code",
   "execution_count": 6,
   "metadata": {},
   "outputs": [
    {
     "data": {
      "text/html": [
       "<div>\n",
       "<style scoped>\n",
       "    .dataframe tbody tr th:only-of-type {\n",
       "        vertical-align: middle;\n",
       "    }\n",
       "\n",
       "    .dataframe tbody tr th {\n",
       "        vertical-align: top;\n",
       "    }\n",
       "\n",
       "    .dataframe thead th {\n",
       "        text-align: right;\n",
       "    }\n",
       "</style>\n",
       "<table border=\"1\" class=\"dataframe\">\n",
       "  <thead>\n",
       "    <tr style=\"text-align: right;\">\n",
       "      <th></th>\n",
       "      <th>Id</th>\n",
       "    </tr>\n",
       "  </thead>\n",
       "  <tbody>\n",
       "    <tr>\n",
       "      <th>0</th>\n",
       "      <td>10012</td>\n",
       "    </tr>\n",
       "    <tr>\n",
       "      <th>1</th>\n",
       "      <td>10014</td>\n",
       "    </tr>\n",
       "    <tr>\n",
       "      <th>2</th>\n",
       "      <td>10020</td>\n",
       "    </tr>\n",
       "    <tr>\n",
       "      <th>3</th>\n",
       "      <td>10034</td>\n",
       "    </tr>\n",
       "    <tr>\n",
       "      <th>4</th>\n",
       "      <td>10059</td>\n",
       "    </tr>\n",
       "  </tbody>\n",
       "</table>\n",
       "</div>"
      ],
      "text/plain": [
       "      Id\n",
       "0  10012\n",
       "1  10014\n",
       "2  10020\n",
       "3  10034\n",
       "4  10059"
      ]
     },
     "execution_count": 6,
     "metadata": {},
     "output_type": "execute_result"
    }
   ],
   "source": [
    "reveal_ID.head()"
   ]
  },
  {
   "cell_type": "code",
   "execution_count": 7,
   "metadata": {},
   "outputs": [
    {
     "data": {
      "text/html": [
       "<div>\n",
       "<style scoped>\n",
       "    .dataframe tbody tr th:only-of-type {\n",
       "        vertical-align: middle;\n",
       "    }\n",
       "\n",
       "    .dataframe tbody tr th {\n",
       "        vertical-align: top;\n",
       "    }\n",
       "\n",
       "    .dataframe thead th {\n",
       "        text-align: right;\n",
       "    }\n",
       "</style>\n",
       "<table border=\"1\" class=\"dataframe\">\n",
       "  <thead>\n",
       "    <tr style=\"text-align: right;\">\n",
       "      <th></th>\n",
       "      <th>ICN_number</th>\n",
       "    </tr>\n",
       "  </thead>\n",
       "  <tbody>\n",
       "    <tr>\n",
       "      <th>0</th>\n",
       "      <td>69</td>\n",
       "    </tr>\n",
       "    <tr>\n",
       "      <th>1</th>\n",
       "      <td>53</td>\n",
       "    </tr>\n",
       "    <tr>\n",
       "      <th>2</th>\n",
       "      <td>98</td>\n",
       "    </tr>\n",
       "    <tr>\n",
       "      <th>3</th>\n",
       "      <td>99</td>\n",
       "    </tr>\n",
       "    <tr>\n",
       "      <th>4</th>\n",
       "      <td>45</td>\n",
       "    </tr>\n",
       "  </tbody>\n",
       "</table>\n",
       "</div>"
      ],
      "text/plain": [
       "   ICN_number\n",
       "0          69\n",
       "1          53\n",
       "2          98\n",
       "3          99\n",
       "4          45"
      ]
     },
     "execution_count": 7,
     "metadata": {},
     "output_type": "execute_result"
    }
   ],
   "source": [
    "ICN_numbers.head()"
   ]
  },
  {
   "cell_type": "code",
   "execution_count": 8,
   "metadata": {},
   "outputs": [
    {
     "data": {
      "text/html": [
       "<div>\n",
       "<style scoped>\n",
       "    .dataframe tbody tr th:only-of-type {\n",
       "        vertical-align: middle;\n",
       "    }\n",
       "\n",
       "    .dataframe tbody tr th {\n",
       "        vertical-align: top;\n",
       "    }\n",
       "\n",
       "    .dataframe thead th {\n",
       "        text-align: right;\n",
       "    }\n",
       "</style>\n",
       "<table border=\"1\" class=\"dataframe\">\n",
       "  <thead>\n",
       "    <tr style=\"text-align: right;\">\n",
       "      <th></th>\n",
       "      <th>Id</th>\n",
       "      <th>IC_01</th>\n",
       "      <th>IC_07</th>\n",
       "      <th>IC_05</th>\n",
       "      <th>IC_16</th>\n",
       "      <th>IC_26</th>\n",
       "      <th>IC_06</th>\n",
       "      <th>IC_10</th>\n",
       "      <th>IC_09</th>\n",
       "      <th>IC_18</th>\n",
       "      <th>...</th>\n",
       "      <th>IC_08</th>\n",
       "      <th>IC_03</th>\n",
       "      <th>IC_21</th>\n",
       "      <th>IC_28</th>\n",
       "      <th>IC_11</th>\n",
       "      <th>IC_20</th>\n",
       "      <th>IC_30</th>\n",
       "      <th>IC_22</th>\n",
       "      <th>IC_29</th>\n",
       "      <th>IC_14</th>\n",
       "    </tr>\n",
       "  </thead>\n",
       "  <tbody>\n",
       "    <tr>\n",
       "      <th>0</th>\n",
       "      <td>10001</td>\n",
       "      <td>0.006070</td>\n",
       "      <td>0.014466</td>\n",
       "      <td>0.004136</td>\n",
       "      <td>0.000658</td>\n",
       "      <td>-0.002742</td>\n",
       "      <td>0.005033</td>\n",
       "      <td>0.016720</td>\n",
       "      <td>0.003484</td>\n",
       "      <td>0.001797</td>\n",
       "      <td>...</td>\n",
       "      <td>0.018246</td>\n",
       "      <td>0.023711</td>\n",
       "      <td>0.009177</td>\n",
       "      <td>-0.013929</td>\n",
       "      <td>0.030696</td>\n",
       "      <td>0.010496</td>\n",
       "      <td>0.002892</td>\n",
       "      <td>-0.023235</td>\n",
       "      <td>0.022177</td>\n",
       "      <td>0.017192</td>\n",
       "    </tr>\n",
       "    <tr>\n",
       "      <th>1</th>\n",
       "      <td>10002</td>\n",
       "      <td>0.009087</td>\n",
       "      <td>0.009291</td>\n",
       "      <td>0.007049</td>\n",
       "      <td>-0.002076</td>\n",
       "      <td>-0.002227</td>\n",
       "      <td>0.004605</td>\n",
       "      <td>0.012277</td>\n",
       "      <td>0.002946</td>\n",
       "      <td>0.004086</td>\n",
       "      <td>...</td>\n",
       "      <td>0.014635</td>\n",
       "      <td>0.022556</td>\n",
       "      <td>0.012004</td>\n",
       "      <td>-0.011814</td>\n",
       "      <td>0.022479</td>\n",
       "      <td>0.005739</td>\n",
       "      <td>0.002880</td>\n",
       "      <td>-0.016609</td>\n",
       "      <td>0.025543</td>\n",
       "      <td>0.014524</td>\n",
       "    </tr>\n",
       "    <tr>\n",
       "      <th>2</th>\n",
       "      <td>10003</td>\n",
       "      <td>0.008151</td>\n",
       "      <td>0.014684</td>\n",
       "      <td>0.010444</td>\n",
       "      <td>-0.005293</td>\n",
       "      <td>-0.002913</td>\n",
       "      <td>0.015042</td>\n",
       "      <td>0.017745</td>\n",
       "      <td>0.003930</td>\n",
       "      <td>-0.008021</td>\n",
       "      <td>...</td>\n",
       "      <td>0.019565</td>\n",
       "      <td>0.030616</td>\n",
       "      <td>0.018184</td>\n",
       "      <td>-0.010469</td>\n",
       "      <td>0.029799</td>\n",
       "      <td>0.015435</td>\n",
       "      <td>0.005211</td>\n",
       "      <td>-0.028882</td>\n",
       "      <td>0.031427</td>\n",
       "      <td>0.018164</td>\n",
       "    </tr>\n",
       "    <tr>\n",
       "      <th>3</th>\n",
       "      <td>10004</td>\n",
       "      <td>0.004675</td>\n",
       "      <td>0.000957</td>\n",
       "      <td>0.006154</td>\n",
       "      <td>-0.000429</td>\n",
       "      <td>-0.001222</td>\n",
       "      <td>0.011755</td>\n",
       "      <td>0.013010</td>\n",
       "      <td>0.000193</td>\n",
       "      <td>0.008075</td>\n",
       "      <td>...</td>\n",
       "      <td>0.002658</td>\n",
       "      <td>0.022266</td>\n",
       "      <td>0.005956</td>\n",
       "      <td>-0.010595</td>\n",
       "      <td>0.024078</td>\n",
       "      <td>-0.000319</td>\n",
       "      <td>0.005866</td>\n",
       "      <td>-0.015182</td>\n",
       "      <td>0.024476</td>\n",
       "      <td>0.014760</td>\n",
       "    </tr>\n",
       "    <tr>\n",
       "      <th>4</th>\n",
       "      <td>10005</td>\n",
       "      <td>-0.000398</td>\n",
       "      <td>0.006878</td>\n",
       "      <td>0.009051</td>\n",
       "      <td>0.000369</td>\n",
       "      <td>0.000336</td>\n",
       "      <td>0.010679</td>\n",
       "      <td>0.010352</td>\n",
       "      <td>0.003637</td>\n",
       "      <td>0.004180</td>\n",
       "      <td>...</td>\n",
       "      <td>0.009702</td>\n",
       "      <td>0.017257</td>\n",
       "      <td>0.005454</td>\n",
       "      <td>-0.008591</td>\n",
       "      <td>0.019416</td>\n",
       "      <td>0.000786</td>\n",
       "      <td>0.002692</td>\n",
       "      <td>-0.019814</td>\n",
       "      <td>0.017105</td>\n",
       "      <td>0.013316</td>\n",
       "    </tr>\n",
       "  </tbody>\n",
       "</table>\n",
       "<p>5 rows × 27 columns</p>\n",
       "</div>"
      ],
      "text/plain": [
       "      Id     IC_01     IC_07     IC_05     IC_16     IC_26     IC_06  \\\n",
       "0  10001  0.006070  0.014466  0.004136  0.000658 -0.002742  0.005033   \n",
       "1  10002  0.009087  0.009291  0.007049 -0.002076 -0.002227  0.004605   \n",
       "2  10003  0.008151  0.014684  0.010444 -0.005293 -0.002913  0.015042   \n",
       "3  10004  0.004675  0.000957  0.006154 -0.000429 -0.001222  0.011755   \n",
       "4  10005 -0.000398  0.006878  0.009051  0.000369  0.000336  0.010679   \n",
       "\n",
       "      IC_10     IC_09     IC_18  ...     IC_08     IC_03     IC_21     IC_28  \\\n",
       "0  0.016720  0.003484  0.001797  ...  0.018246  0.023711  0.009177 -0.013929   \n",
       "1  0.012277  0.002946  0.004086  ...  0.014635  0.022556  0.012004 -0.011814   \n",
       "2  0.017745  0.003930 -0.008021  ...  0.019565  0.030616  0.018184 -0.010469   \n",
       "3  0.013010  0.000193  0.008075  ...  0.002658  0.022266  0.005956 -0.010595   \n",
       "4  0.010352  0.003637  0.004180  ...  0.009702  0.017257  0.005454 -0.008591   \n",
       "\n",
       "      IC_11     IC_20     IC_30     IC_22     IC_29     IC_14  \n",
       "0  0.030696  0.010496  0.002892 -0.023235  0.022177  0.017192  \n",
       "1  0.022479  0.005739  0.002880 -0.016609  0.025543  0.014524  \n",
       "2  0.029799  0.015435  0.005211 -0.028882  0.031427  0.018164  \n",
       "3  0.024078 -0.000319  0.005866 -0.015182  0.024476  0.014760  \n",
       "4  0.019416  0.000786  0.002692 -0.019814  0.017105  0.013316  \n",
       "\n",
       "[5 rows x 27 columns]"
      ]
     },
     "execution_count": 8,
     "metadata": {},
     "output_type": "execute_result"
    }
   ],
   "source": [
    "loading.head()"
   ]
  },
  {
   "cell_type": "code",
   "execution_count": 9,
   "metadata": {},
   "outputs": [
    {
     "data": {
      "text/html": [
       "<div>\n",
       "<style scoped>\n",
       "    .dataframe tbody tr th:only-of-type {\n",
       "        vertical-align: middle;\n",
       "    }\n",
       "\n",
       "    .dataframe tbody tr th {\n",
       "        vertical-align: top;\n",
       "    }\n",
       "\n",
       "    .dataframe thead th {\n",
       "        text-align: right;\n",
       "    }\n",
       "</style>\n",
       "<table border=\"1\" class=\"dataframe\">\n",
       "  <thead>\n",
       "    <tr style=\"text-align: right;\">\n",
       "      <th></th>\n",
       "      <th>Id</th>\n",
       "      <th>SCN(53)_vs_SCN(69)</th>\n",
       "      <th>SCN(98)_vs_SCN(69)</th>\n",
       "      <th>SCN(99)_vs_SCN(69)</th>\n",
       "      <th>SCN(45)_vs_SCN(69)</th>\n",
       "      <th>ADN(21)_vs_SCN(69)</th>\n",
       "      <th>ADN(56)_vs_SCN(69)</th>\n",
       "      <th>SMN(3)_vs_SCN(69)</th>\n",
       "      <th>SMN(9)_vs_SCN(69)</th>\n",
       "      <th>SMN(2)_vs_SCN(69)</th>\n",
       "      <th>...</th>\n",
       "      <th>CBN(13)_vs_DMN(94)</th>\n",
       "      <th>CBN(18)_vs_DMN(94)</th>\n",
       "      <th>CBN(4)_vs_DMN(94)</th>\n",
       "      <th>CBN(7)_vs_DMN(94)</th>\n",
       "      <th>CBN(18)_vs_CBN(13)</th>\n",
       "      <th>CBN(4)_vs_CBN(13)</th>\n",
       "      <th>CBN(7)_vs_CBN(13)</th>\n",
       "      <th>CBN(4)_vs_CBN(18)</th>\n",
       "      <th>CBN(7)_vs_CBN(18)</th>\n",
       "      <th>CBN(7)_vs_CBN(4)</th>\n",
       "    </tr>\n",
       "  </thead>\n",
       "  <tbody>\n",
       "    <tr>\n",
       "      <th>0</th>\n",
       "      <td>10001</td>\n",
       "      <td>0.368580</td>\n",
       "      <td>0.166876</td>\n",
       "      <td>0.438148</td>\n",
       "      <td>0.341007</td>\n",
       "      <td>-0.186251</td>\n",
       "      <td>0.049096</td>\n",
       "      <td>0.121417</td>\n",
       "      <td>-0.174268</td>\n",
       "      <td>-0.231578</td>\n",
       "      <td>...</td>\n",
       "      <td>-0.149279</td>\n",
       "      <td>0.552841</td>\n",
       "      <td>0.131046</td>\n",
       "      <td>0.335446</td>\n",
       "      <td>0.394867</td>\n",
       "      <td>-0.042853</td>\n",
       "      <td>0.124627</td>\n",
       "      <td>-0.060712</td>\n",
       "      <td>0.515964</td>\n",
       "      <td>0.290488</td>\n",
       "    </tr>\n",
       "    <tr>\n",
       "      <th>1</th>\n",
       "      <td>10002</td>\n",
       "      <td>0.151696</td>\n",
       "      <td>-0.024819</td>\n",
       "      <td>0.217504</td>\n",
       "      <td>0.418072</td>\n",
       "      <td>-0.227234</td>\n",
       "      <td>-0.064052</td>\n",
       "      <td>-0.143832</td>\n",
       "      <td>-0.118116</td>\n",
       "      <td>-0.054825</td>\n",
       "      <td>...</td>\n",
       "      <td>-0.214216</td>\n",
       "      <td>-0.039792</td>\n",
       "      <td>0.143014</td>\n",
       "      <td>-0.189962</td>\n",
       "      <td>0.498373</td>\n",
       "      <td>0.444231</td>\n",
       "      <td>0.592438</td>\n",
       "      <td>0.028649</td>\n",
       "      <td>0.705524</td>\n",
       "      <td>0.248327</td>\n",
       "    </tr>\n",
       "    <tr>\n",
       "      <th>2</th>\n",
       "      <td>10003</td>\n",
       "      <td>0.343415</td>\n",
       "      <td>0.109974</td>\n",
       "      <td>0.741641</td>\n",
       "      <td>0.578558</td>\n",
       "      <td>-0.676446</td>\n",
       "      <td>-0.436960</td>\n",
       "      <td>-0.295663</td>\n",
       "      <td>-0.377790</td>\n",
       "      <td>-0.344963</td>\n",
       "      <td>...</td>\n",
       "      <td>-0.154941</td>\n",
       "      <td>0.136850</td>\n",
       "      <td>-0.022361</td>\n",
       "      <td>0.137625</td>\n",
       "      <td>0.677972</td>\n",
       "      <td>0.409412</td>\n",
       "      <td>0.563892</td>\n",
       "      <td>0.438684</td>\n",
       "      <td>0.618204</td>\n",
       "      <td>0.284474</td>\n",
       "    </tr>\n",
       "    <tr>\n",
       "      <th>3</th>\n",
       "      <td>10004</td>\n",
       "      <td>0.132793</td>\n",
       "      <td>0.258255</td>\n",
       "      <td>0.490769</td>\n",
       "      <td>0.342717</td>\n",
       "      <td>0.091112</td>\n",
       "      <td>0.107969</td>\n",
       "      <td>0.029220</td>\n",
       "      <td>-0.026237</td>\n",
       "      <td>0.094742</td>\n",
       "      <td>...</td>\n",
       "      <td>-0.130339</td>\n",
       "      <td>0.309540</td>\n",
       "      <td>0.141469</td>\n",
       "      <td>0.030853</td>\n",
       "      <td>0.344394</td>\n",
       "      <td>0.214097</td>\n",
       "      <td>0.317556</td>\n",
       "      <td>0.012435</td>\n",
       "      <td>0.665937</td>\n",
       "      <td>0.081358</td>\n",
       "    </tr>\n",
       "    <tr>\n",
       "      <th>4</th>\n",
       "      <td>10005</td>\n",
       "      <td>0.291921</td>\n",
       "      <td>0.251254</td>\n",
       "      <td>0.416470</td>\n",
       "      <td>0.511719</td>\n",
       "      <td>-0.362626</td>\n",
       "      <td>-0.164710</td>\n",
       "      <td>-0.289059</td>\n",
       "      <td>-0.015537</td>\n",
       "      <td>-0.087316</td>\n",
       "      <td>...</td>\n",
       "      <td>-0.139525</td>\n",
       "      <td>0.394932</td>\n",
       "      <td>0.040443</td>\n",
       "      <td>0.428334</td>\n",
       "      <td>0.498837</td>\n",
       "      <td>0.266755</td>\n",
       "      <td>0.227379</td>\n",
       "      <td>0.028984</td>\n",
       "      <td>0.752343</td>\n",
       "      <td>0.087898</td>\n",
       "    </tr>\n",
       "  </tbody>\n",
       "</table>\n",
       "<p>5 rows × 1379 columns</p>\n",
       "</div>"
      ],
      "text/plain": [
       "      Id  SCN(53)_vs_SCN(69)  SCN(98)_vs_SCN(69)  SCN(99)_vs_SCN(69)  \\\n",
       "0  10001            0.368580            0.166876            0.438148   \n",
       "1  10002            0.151696           -0.024819            0.217504   \n",
       "2  10003            0.343415            0.109974            0.741641   \n",
       "3  10004            0.132793            0.258255            0.490769   \n",
       "4  10005            0.291921            0.251254            0.416470   \n",
       "\n",
       "   SCN(45)_vs_SCN(69)  ADN(21)_vs_SCN(69)  ADN(56)_vs_SCN(69)  \\\n",
       "0            0.341007           -0.186251            0.049096   \n",
       "1            0.418072           -0.227234           -0.064052   \n",
       "2            0.578558           -0.676446           -0.436960   \n",
       "3            0.342717            0.091112            0.107969   \n",
       "4            0.511719           -0.362626           -0.164710   \n",
       "\n",
       "   SMN(3)_vs_SCN(69)  SMN(9)_vs_SCN(69)  SMN(2)_vs_SCN(69)  ...  \\\n",
       "0           0.121417          -0.174268          -0.231578  ...   \n",
       "1          -0.143832          -0.118116          -0.054825  ...   \n",
       "2          -0.295663          -0.377790          -0.344963  ...   \n",
       "3           0.029220          -0.026237           0.094742  ...   \n",
       "4          -0.289059          -0.015537          -0.087316  ...   \n",
       "\n",
       "   CBN(13)_vs_DMN(94)  CBN(18)_vs_DMN(94)  CBN(4)_vs_DMN(94)  \\\n",
       "0           -0.149279            0.552841           0.131046   \n",
       "1           -0.214216           -0.039792           0.143014   \n",
       "2           -0.154941            0.136850          -0.022361   \n",
       "3           -0.130339            0.309540           0.141469   \n",
       "4           -0.139525            0.394932           0.040443   \n",
       "\n",
       "   CBN(7)_vs_DMN(94)  CBN(18)_vs_CBN(13)  CBN(4)_vs_CBN(13)  \\\n",
       "0           0.335446            0.394867          -0.042853   \n",
       "1          -0.189962            0.498373           0.444231   \n",
       "2           0.137625            0.677972           0.409412   \n",
       "3           0.030853            0.344394           0.214097   \n",
       "4           0.428334            0.498837           0.266755   \n",
       "\n",
       "   CBN(7)_vs_CBN(13)  CBN(4)_vs_CBN(18)  CBN(7)_vs_CBN(18)  CBN(7)_vs_CBN(4)  \n",
       "0           0.124627          -0.060712           0.515964          0.290488  \n",
       "1           0.592438           0.028649           0.705524          0.248327  \n",
       "2           0.563892           0.438684           0.618204          0.284474  \n",
       "3           0.317556           0.012435           0.665937          0.081358  \n",
       "4           0.227379           0.028984           0.752343          0.087898  \n",
       "\n",
       "[5 rows x 1379 columns]"
      ]
     },
     "execution_count": 9,
     "metadata": {},
     "output_type": "execute_result"
    }
   ],
   "source": [
    "fnc.head()"
   ]
  },
  {
   "cell_type": "code",
   "execution_count": 10,
   "metadata": {},
   "outputs": [
    {
     "data": {
      "text/html": [
       "<div>\n",
       "<style scoped>\n",
       "    .dataframe tbody tr th:only-of-type {\n",
       "        vertical-align: middle;\n",
       "    }\n",
       "\n",
       "    .dataframe tbody tr th {\n",
       "        vertical-align: top;\n",
       "    }\n",
       "\n",
       "    .dataframe thead th {\n",
       "        text-align: right;\n",
       "    }\n",
       "</style>\n",
       "<table border=\"1\" class=\"dataframe\">\n",
       "  <thead>\n",
       "    <tr style=\"text-align: right;\">\n",
       "      <th></th>\n",
       "      <th>Id</th>\n",
       "      <th>Predicted</th>\n",
       "    </tr>\n",
       "  </thead>\n",
       "  <tbody>\n",
       "    <tr>\n",
       "      <th>0</th>\n",
       "      <td>10003_age</td>\n",
       "      <td>50.0</td>\n",
       "    </tr>\n",
       "    <tr>\n",
       "      <th>1</th>\n",
       "      <td>10003_domain1_var1</td>\n",
       "      <td>50.0</td>\n",
       "    </tr>\n",
       "    <tr>\n",
       "      <th>2</th>\n",
       "      <td>10003_domain1_var2</td>\n",
       "      <td>50.0</td>\n",
       "    </tr>\n",
       "    <tr>\n",
       "      <th>3</th>\n",
       "      <td>10003_domain2_var1</td>\n",
       "      <td>50.0</td>\n",
       "    </tr>\n",
       "    <tr>\n",
       "      <th>4</th>\n",
       "      <td>10003_domain2_var2</td>\n",
       "      <td>50.0</td>\n",
       "    </tr>\n",
       "  </tbody>\n",
       "</table>\n",
       "</div>"
      ],
      "text/plain": [
       "                   Id  Predicted\n",
       "0           10003_age       50.0\n",
       "1  10003_domain1_var1       50.0\n",
       "2  10003_domain1_var2       50.0\n",
       "3  10003_domain2_var1       50.0\n",
       "4  10003_domain2_var2       50.0"
      ]
     },
     "execution_count": 10,
     "metadata": {},
     "output_type": "execute_result"
    }
   ],
   "source": [
    "sample_submission.head()"
   ]
  },
  {
   "cell_type": "code",
   "execution_count": 11,
   "metadata": {},
   "outputs": [
    {
     "data": {
      "text/html": [
       "<div>\n",
       "<style scoped>\n",
       "    .dataframe tbody tr th:only-of-type {\n",
       "        vertical-align: middle;\n",
       "    }\n",
       "\n",
       "    .dataframe tbody tr th {\n",
       "        vertical-align: top;\n",
       "    }\n",
       "\n",
       "    .dataframe thead th {\n",
       "        text-align: right;\n",
       "    }\n",
       "</style>\n",
       "<table border=\"1\" class=\"dataframe\">\n",
       "  <thead>\n",
       "    <tr style=\"text-align: right;\">\n",
       "      <th></th>\n",
       "      <th>Id</th>\n",
       "    </tr>\n",
       "  </thead>\n",
       "  <tbody>\n",
       "    <tr>\n",
       "      <th>0</th>\n",
       "      <td>10003</td>\n",
       "    </tr>\n",
       "    <tr>\n",
       "      <th>1</th>\n",
       "      <td>10006</td>\n",
       "    </tr>\n",
       "    <tr>\n",
       "      <th>2</th>\n",
       "      <td>10010</td>\n",
       "    </tr>\n",
       "    <tr>\n",
       "      <th>3</th>\n",
       "      <td>10011</td>\n",
       "    </tr>\n",
       "    <tr>\n",
       "      <th>4</th>\n",
       "      <td>10012</td>\n",
       "    </tr>\n",
       "  </tbody>\n",
       "</table>\n",
       "</div>"
      ],
      "text/plain": [
       "      Id\n",
       "0  10003\n",
       "1  10006\n",
       "2  10010\n",
       "3  10011\n",
       "4  10012"
      ]
     },
     "execution_count": 11,
     "metadata": {},
     "output_type": "execute_result"
    }
   ],
   "source": [
    "sample_submission['ID_num'] = sample_submission[ID].apply(lambda x: int(x.split('_')[0]))\n",
    "test = pd.DataFrame({ID: sample_submission['ID_num'].unique().astype(str)})\n",
    "del sample_submission['ID_num']; gc.collect()\n",
    "test.head()"
   ]
  },
  {
   "cell_type": "markdown",
   "metadata": {},
   "source": [
    "# FE"
   ]
  },
  {
   "cell_type": "code",
   "execution_count": 12,
   "metadata": {},
   "outputs": [
    {
     "data": {
      "text/html": [
       "<div>\n",
       "<style scoped>\n",
       "    .dataframe tbody tr th:only-of-type {\n",
       "        vertical-align: middle;\n",
       "    }\n",
       "\n",
       "    .dataframe tbody tr th {\n",
       "        vertical-align: top;\n",
       "    }\n",
       "\n",
       "    .dataframe thead th {\n",
       "        text-align: right;\n",
       "    }\n",
       "</style>\n",
       "<table border=\"1\" class=\"dataframe\">\n",
       "  <thead>\n",
       "    <tr style=\"text-align: right;\">\n",
       "      <th></th>\n",
       "      <th>Id</th>\n",
       "      <th>age</th>\n",
       "      <th>domain1_var1</th>\n",
       "      <th>domain1_var2</th>\n",
       "      <th>domain2_var1</th>\n",
       "      <th>domain2_var2</th>\n",
       "      <th>IC_01</th>\n",
       "      <th>IC_07</th>\n",
       "      <th>IC_05</th>\n",
       "      <th>IC_16</th>\n",
       "      <th>...</th>\n",
       "      <th>IC50_sv_2</th>\n",
       "      <th>IC51_sv_0</th>\n",
       "      <th>IC51_sv_1</th>\n",
       "      <th>IC51_sv_2</th>\n",
       "      <th>IC52_sv_0</th>\n",
       "      <th>IC52_sv_1</th>\n",
       "      <th>IC52_sv_2</th>\n",
       "      <th>IC53_sv_0</th>\n",
       "      <th>IC53_sv_1</th>\n",
       "      <th>IC53_sv_2</th>\n",
       "    </tr>\n",
       "  </thead>\n",
       "  <tbody>\n",
       "    <tr>\n",
       "      <th>0</th>\n",
       "      <td>10001</td>\n",
       "      <td>57.436077</td>\n",
       "      <td>30.571975</td>\n",
       "      <td>62.553736</td>\n",
       "      <td>53.325130</td>\n",
       "      <td>51.427998</td>\n",
       "      <td>0.006070</td>\n",
       "      <td>0.014466</td>\n",
       "      <td>0.004136</td>\n",
       "      <td>0.000658</td>\n",
       "      <td>...</td>\n",
       "      <td>-17.799738</td>\n",
       "      <td>166.031494</td>\n",
       "      <td>7.140522</td>\n",
       "      <td>-1.852221</td>\n",
       "      <td>162.160387</td>\n",
       "      <td>-7.110113</td>\n",
       "      <td>-13.135310</td>\n",
       "      <td>174.460828</td>\n",
       "      <td>-42.337720</td>\n",
       "      <td>-12.991372</td>\n",
       "    </tr>\n",
       "    <tr>\n",
       "      <th>1</th>\n",
       "      <td>10002</td>\n",
       "      <td>59.580851</td>\n",
       "      <td>50.969456</td>\n",
       "      <td>67.470628</td>\n",
       "      <td>60.651856</td>\n",
       "      <td>58.311361</td>\n",
       "      <td>0.009087</td>\n",
       "      <td>0.009291</td>\n",
       "      <td>0.007049</td>\n",
       "      <td>-0.002076</td>\n",
       "      <td>...</td>\n",
       "      <td>0.709199</td>\n",
       "      <td>163.013239</td>\n",
       "      <td>17.676404</td>\n",
       "      <td>5.821980</td>\n",
       "      <td>143.393550</td>\n",
       "      <td>-2.938574</td>\n",
       "      <td>-11.616378</td>\n",
       "      <td>160.541908</td>\n",
       "      <td>-4.967370</td>\n",
       "      <td>12.948171</td>\n",
       "    </tr>\n",
       "    <tr>\n",
       "      <th>2</th>\n",
       "      <td>10004</td>\n",
       "      <td>71.413018</td>\n",
       "      <td>53.152498</td>\n",
       "      <td>58.012103</td>\n",
       "      <td>52.418389</td>\n",
       "      <td>62.536641</td>\n",
       "      <td>0.004675</td>\n",
       "      <td>0.000957</td>\n",
       "      <td>0.006154</td>\n",
       "      <td>-0.000429</td>\n",
       "      <td>...</td>\n",
       "      <td>-9.008883</td>\n",
       "      <td>192.778342</td>\n",
       "      <td>-3.093821</td>\n",
       "      <td>-3.798846</td>\n",
       "      <td>175.548164</td>\n",
       "      <td>28.353885</td>\n",
       "      <td>2.312814</td>\n",
       "      <td>179.837870</td>\n",
       "      <td>26.207981</td>\n",
       "      <td>-35.805791</td>\n",
       "    </tr>\n",
       "    <tr>\n",
       "      <th>3</th>\n",
       "      <td>10007</td>\n",
       "      <td>38.617381</td>\n",
       "      <td>49.197021</td>\n",
       "      <td>65.674285</td>\n",
       "      <td>40.151376</td>\n",
       "      <td>34.096421</td>\n",
       "      <td>0.005192</td>\n",
       "      <td>0.010585</td>\n",
       "      <td>0.012160</td>\n",
       "      <td>-0.000920</td>\n",
       "      <td>...</td>\n",
       "      <td>5.134978</td>\n",
       "      <td>180.179770</td>\n",
       "      <td>15.868681</td>\n",
       "      <td>4.476608</td>\n",
       "      <td>159.916263</td>\n",
       "      <td>1.243108</td>\n",
       "      <td>-1.608821</td>\n",
       "      <td>179.713214</td>\n",
       "      <td>-30.641977</td>\n",
       "      <td>-4.577734</td>\n",
       "    </tr>\n",
       "    <tr>\n",
       "      <th>4</th>\n",
       "      <td>10008</td>\n",
       "      <td>35.326582</td>\n",
       "      <td>15.769168</td>\n",
       "      <td>65.782269</td>\n",
       "      <td>44.643805</td>\n",
       "      <td>50.448485</td>\n",
       "      <td>0.007745</td>\n",
       "      <td>0.009748</td>\n",
       "      <td>0.009356</td>\n",
       "      <td>-0.004219</td>\n",
       "      <td>...</td>\n",
       "      <td>8.405299</td>\n",
       "      <td>159.671422</td>\n",
       "      <td>-3.572671</td>\n",
       "      <td>9.738247</td>\n",
       "      <td>161.434889</td>\n",
       "      <td>2.727811</td>\n",
       "      <td>-2.228822</td>\n",
       "      <td>182.490980</td>\n",
       "      <td>-34.469517</td>\n",
       "      <td>-0.542716</td>\n",
       "    </tr>\n",
       "  </tbody>\n",
       "</table>\n",
       "<p>5 rows × 1569 columns</p>\n",
       "</div>"
      ],
      "text/plain": [
       "      Id        age  domain1_var1  domain1_var2  domain2_var1  domain2_var2  \\\n",
       "0  10001  57.436077     30.571975     62.553736     53.325130     51.427998   \n",
       "1  10002  59.580851     50.969456     67.470628     60.651856     58.311361   \n",
       "2  10004  71.413018     53.152498     58.012103     52.418389     62.536641   \n",
       "3  10007  38.617381     49.197021     65.674285     40.151376     34.096421   \n",
       "4  10008  35.326582     15.769168     65.782269     44.643805     50.448485   \n",
       "\n",
       "      IC_01     IC_07     IC_05     IC_16  ...  IC50_sv_2   IC51_sv_0  \\\n",
       "0  0.006070  0.014466  0.004136  0.000658  ... -17.799738  166.031494   \n",
       "1  0.009087  0.009291  0.007049 -0.002076  ...   0.709199  163.013239   \n",
       "2  0.004675  0.000957  0.006154 -0.000429  ...  -9.008883  192.778342   \n",
       "3  0.005192  0.010585  0.012160 -0.000920  ...   5.134978  180.179770   \n",
       "4  0.007745  0.009748  0.009356 -0.004219  ...   8.405299  159.671422   \n",
       "\n",
       "   IC51_sv_1  IC51_sv_2   IC52_sv_0  IC52_sv_1  IC52_sv_2   IC53_sv_0  \\\n",
       "0   7.140522  -1.852221  162.160387  -7.110113 -13.135310  174.460828   \n",
       "1  17.676404   5.821980  143.393550  -2.938574 -11.616378  160.541908   \n",
       "2  -3.093821  -3.798846  175.548164  28.353885   2.312814  179.837870   \n",
       "3  15.868681   4.476608  159.916263   1.243108  -1.608821  179.713214   \n",
       "4  -3.572671   9.738247  161.434889   2.727811  -2.228822  182.490980   \n",
       "\n",
       "   IC53_sv_1  IC53_sv_2  \n",
       "0 -42.337720 -12.991372  \n",
       "1  -4.967370  12.948171  \n",
       "2  26.207981 -35.805791  \n",
       "3 -30.641977  -4.577734  \n",
       "4 -34.469517  -0.542716  \n",
       "\n",
       "[5 rows x 1569 columns]"
      ]
     },
     "execution_count": 12,
     "metadata": {},
     "output_type": "execute_result"
    }
   ],
   "source": [
    "# merge\n",
    "train = train.merge(loading, on=ID, how='left')\n",
    "train = train.merge(fnc, on=ID, how='left')\n",
    "train = train.merge(svd, on=ID, how='left')\n",
    "train.head()"
   ]
  },
  {
   "cell_type": "code",
   "execution_count": 13,
   "metadata": {},
   "outputs": [],
   "source": [
    "train_features = train.drop(['Id','age','domain1_var1','domain1_var2','domain2_var1','domain2_var2'], axis=1)"
   ]
  },
  {
   "cell_type": "code",
   "execution_count": 14,
   "metadata": {},
   "outputs": [
    {
     "data": {
      "text/html": [
       "<div>\n",
       "<style scoped>\n",
       "    .dataframe tbody tr th:only-of-type {\n",
       "        vertical-align: middle;\n",
       "    }\n",
       "\n",
       "    .dataframe tbody tr th {\n",
       "        vertical-align: top;\n",
       "    }\n",
       "\n",
       "    .dataframe thead th {\n",
       "        text-align: right;\n",
       "    }\n",
       "</style>\n",
       "<table border=\"1\" class=\"dataframe\">\n",
       "  <thead>\n",
       "    <tr style=\"text-align: right;\">\n",
       "      <th></th>\n",
       "      <th>Id</th>\n",
       "      <th>IC_01</th>\n",
       "      <th>IC_07</th>\n",
       "      <th>IC_05</th>\n",
       "      <th>IC_16</th>\n",
       "      <th>IC_26</th>\n",
       "      <th>IC_06</th>\n",
       "      <th>IC_10</th>\n",
       "      <th>IC_09</th>\n",
       "      <th>IC_18</th>\n",
       "      <th>...</th>\n",
       "      <th>IC50_sv_2</th>\n",
       "      <th>IC51_sv_0</th>\n",
       "      <th>IC51_sv_1</th>\n",
       "      <th>IC51_sv_2</th>\n",
       "      <th>IC52_sv_0</th>\n",
       "      <th>IC52_sv_1</th>\n",
       "      <th>IC52_sv_2</th>\n",
       "      <th>IC53_sv_0</th>\n",
       "      <th>IC53_sv_1</th>\n",
       "      <th>IC53_sv_2</th>\n",
       "    </tr>\n",
       "  </thead>\n",
       "  <tbody>\n",
       "    <tr>\n",
       "      <th>0</th>\n",
       "      <td>10003</td>\n",
       "      <td>0.008151</td>\n",
       "      <td>0.014684</td>\n",
       "      <td>0.010444</td>\n",
       "      <td>-0.005293</td>\n",
       "      <td>-0.002913</td>\n",
       "      <td>0.015042</td>\n",
       "      <td>0.017745</td>\n",
       "      <td>0.003930</td>\n",
       "      <td>-0.008021</td>\n",
       "      <td>...</td>\n",
       "      <td>13.199830</td>\n",
       "      <td>174.917594</td>\n",
       "      <td>19.152848</td>\n",
       "      <td>-9.928726</td>\n",
       "      <td>169.786225</td>\n",
       "      <td>22.718672</td>\n",
       "      <td>0.167235</td>\n",
       "      <td>164.056775</td>\n",
       "      <td>4.091340</td>\n",
       "      <td>2.155737</td>\n",
       "    </tr>\n",
       "    <tr>\n",
       "      <th>1</th>\n",
       "      <td>10006</td>\n",
       "      <td>0.000334</td>\n",
       "      <td>0.005311</td>\n",
       "      <td>0.010053</td>\n",
       "      <td>0.006920</td>\n",
       "      <td>-0.000065</td>\n",
       "      <td>0.015310</td>\n",
       "      <td>0.016543</td>\n",
       "      <td>0.004794</td>\n",
       "      <td>0.003982</td>\n",
       "      <td>...</td>\n",
       "      <td>31.788352</td>\n",
       "      <td>149.021337</td>\n",
       "      <td>12.370486</td>\n",
       "      <td>37.468679</td>\n",
       "      <td>142.848266</td>\n",
       "      <td>29.108289</td>\n",
       "      <td>12.186597</td>\n",
       "      <td>150.882015</td>\n",
       "      <td>-0.153927</td>\n",
       "      <td>13.956243</td>\n",
       "    </tr>\n",
       "    <tr>\n",
       "      <th>2</th>\n",
       "      <td>10010</td>\n",
       "      <td>0.007103</td>\n",
       "      <td>0.006144</td>\n",
       "      <td>0.009770</td>\n",
       "      <td>-0.002884</td>\n",
       "      <td>-0.001346</td>\n",
       "      <td>0.015651</td>\n",
       "      <td>0.011613</td>\n",
       "      <td>-0.003291</td>\n",
       "      <td>0.013423</td>\n",
       "      <td>...</td>\n",
       "      <td>-7.542619</td>\n",
       "      <td>190.829387</td>\n",
       "      <td>63.303951</td>\n",
       "      <td>-10.683903</td>\n",
       "      <td>177.471958</td>\n",
       "      <td>-3.953985</td>\n",
       "      <td>7.453443</td>\n",
       "      <td>174.139657</td>\n",
       "      <td>5.815356</td>\n",
       "      <td>13.795921</td>\n",
       "    </tr>\n",
       "    <tr>\n",
       "      <th>3</th>\n",
       "      <td>10011</td>\n",
       "      <td>0.004362</td>\n",
       "      <td>0.010240</td>\n",
       "      <td>0.010167</td>\n",
       "      <td>0.004492</td>\n",
       "      <td>-0.001623</td>\n",
       "      <td>0.017381</td>\n",
       "      <td>0.014680</td>\n",
       "      <td>0.007453</td>\n",
       "      <td>0.008786</td>\n",
       "      <td>...</td>\n",
       "      <td>4.402735</td>\n",
       "      <td>176.593110</td>\n",
       "      <td>16.814323</td>\n",
       "      <td>13.351205</td>\n",
       "      <td>167.346241</td>\n",
       "      <td>-15.989412</td>\n",
       "      <td>-2.907931</td>\n",
       "      <td>75.024373</td>\n",
       "      <td>-11.437069</td>\n",
       "      <td>0.285884</td>\n",
       "    </tr>\n",
       "    <tr>\n",
       "      <th>4</th>\n",
       "      <td>10012</td>\n",
       "      <td>-0.007521</td>\n",
       "      <td>-0.003918</td>\n",
       "      <td>0.008434</td>\n",
       "      <td>-0.001145</td>\n",
       "      <td>0.002017</td>\n",
       "      <td>0.015065</td>\n",
       "      <td>0.019616</td>\n",
       "      <td>0.004140</td>\n",
       "      <td>-0.003744</td>\n",
       "      <td>...</td>\n",
       "      <td>27.425245</td>\n",
       "      <td>168.975699</td>\n",
       "      <td>-2.519493</td>\n",
       "      <td>4.657842</td>\n",
       "      <td>164.809378</td>\n",
       "      <td>3.752162</td>\n",
       "      <td>8.451581</td>\n",
       "      <td>180.592886</td>\n",
       "      <td>-33.029151</td>\n",
       "      <td>8.440923</td>\n",
       "    </tr>\n",
       "  </tbody>\n",
       "</table>\n",
       "<p>5 rows × 1564 columns</p>\n",
       "</div>"
      ],
      "text/plain": [
       "      Id     IC_01     IC_07     IC_05     IC_16     IC_26     IC_06  \\\n",
       "0  10003  0.008151  0.014684  0.010444 -0.005293 -0.002913  0.015042   \n",
       "1  10006  0.000334  0.005311  0.010053  0.006920 -0.000065  0.015310   \n",
       "2  10010  0.007103  0.006144  0.009770 -0.002884 -0.001346  0.015651   \n",
       "3  10011  0.004362  0.010240  0.010167  0.004492 -0.001623  0.017381   \n",
       "4  10012 -0.007521 -0.003918  0.008434 -0.001145  0.002017  0.015065   \n",
       "\n",
       "      IC_10     IC_09     IC_18  ...  IC50_sv_2   IC51_sv_0  IC51_sv_1  \\\n",
       "0  0.017745  0.003930 -0.008021  ...  13.199830  174.917594  19.152848   \n",
       "1  0.016543  0.004794  0.003982  ...  31.788352  149.021337  12.370486   \n",
       "2  0.011613 -0.003291  0.013423  ...  -7.542619  190.829387  63.303951   \n",
       "3  0.014680  0.007453  0.008786  ...   4.402735  176.593110  16.814323   \n",
       "4  0.019616  0.004140 -0.003744  ...  27.425245  168.975699  -2.519493   \n",
       "\n",
       "   IC51_sv_2   IC52_sv_0  IC52_sv_1  IC52_sv_2   IC53_sv_0  IC53_sv_1  \\\n",
       "0  -9.928726  169.786225  22.718672   0.167235  164.056775   4.091340   \n",
       "1  37.468679  142.848266  29.108289  12.186597  150.882015  -0.153927   \n",
       "2 -10.683903  177.471958  -3.953985   7.453443  174.139657   5.815356   \n",
       "3  13.351205  167.346241 -15.989412  -2.907931   75.024373 -11.437069   \n",
       "4   4.657842  164.809378   3.752162   8.451581  180.592886 -33.029151   \n",
       "\n",
       "   IC53_sv_2  \n",
       "0   2.155737  \n",
       "1  13.956243  \n",
       "2  13.795921  \n",
       "3   0.285884  \n",
       "4   8.440923  \n",
       "\n",
       "[5 rows x 1564 columns]"
      ]
     },
     "execution_count": 14,
     "metadata": {},
     "output_type": "execute_result"
    }
   ],
   "source": [
    "# merge\n",
    "test = test.merge(loading, on=ID, how='left')\n",
    "test = test.merge(fnc, on=ID, how='left')\n",
    "test = test.merge(svd, on=ID, how='left')\n",
    "test.head()"
   ]
  },
  {
   "cell_type": "code",
   "execution_count": 15,
   "metadata": {},
   "outputs": [],
   "source": [
    "test_features = test.drop(['Id'], axis=1)"
   ]
  },
  {
   "cell_type": "code",
   "execution_count": 16,
   "metadata": {},
   "outputs": [],
   "source": [
    "train_features_np = train_features.values\n",
    "test_features_np = test_features.values"
   ]
  },
  {
   "cell_type": "code",
   "execution_count": 81,
   "metadata": {},
   "outputs": [],
   "source": [
    "from scipy.spatial import procrustes"
   ]
  },
  {
   "cell_type": "code",
   "execution_count": 82,
   "metadata": {},
   "outputs": [
    {
     "ename": "ValueError",
     "evalue": "Input matrices must be of same shape",
     "output_type": "error",
     "traceback": [
      "\u001b[0;31m---------------------------------------------------------------------------\u001b[0m",
      "\u001b[0;31mValueError\u001b[0m                                Traceback (most recent call last)",
      "\u001b[0;32m<ipython-input-82-7cb194edfdb7>\u001b[0m in \u001b[0;36m<module>\u001b[0;34m\u001b[0m\n\u001b[0;32m----> 1\u001b[0;31m \u001b[0mprocrustes\u001b[0m\u001b[0;34m(\u001b[0m\u001b[0mtrain_features_np\u001b[0m\u001b[0;34m,\u001b[0m \u001b[0mtest_features_np\u001b[0m\u001b[0;34m)\u001b[0m\u001b[0;34m\u001b[0m\u001b[0;34m\u001b[0m\u001b[0m\n\u001b[0m",
      "\u001b[0;32m~/anaconda3/lib/python3.7/site-packages/scipy/spatial/_procrustes.py\u001b[0m in \u001b[0;36mprocrustes\u001b[0;34m(data1, data2)\u001b[0m\n\u001b[1;32m    105\u001b[0m         \u001b[0;32mraise\u001b[0m \u001b[0mValueError\u001b[0m\u001b[0;34m(\u001b[0m\u001b[0;34m\"Input matrices must be two-dimensional\"\u001b[0m\u001b[0;34m)\u001b[0m\u001b[0;34m\u001b[0m\u001b[0;34m\u001b[0m\u001b[0m\n\u001b[1;32m    106\u001b[0m     \u001b[0;32mif\u001b[0m \u001b[0mmtx1\u001b[0m\u001b[0;34m.\u001b[0m\u001b[0mshape\u001b[0m \u001b[0;34m!=\u001b[0m \u001b[0mmtx2\u001b[0m\u001b[0;34m.\u001b[0m\u001b[0mshape\u001b[0m\u001b[0;34m:\u001b[0m\u001b[0;34m\u001b[0m\u001b[0;34m\u001b[0m\u001b[0m\n\u001b[0;32m--> 107\u001b[0;31m         \u001b[0;32mraise\u001b[0m \u001b[0mValueError\u001b[0m\u001b[0;34m(\u001b[0m\u001b[0;34m\"Input matrices must be of same shape\"\u001b[0m\u001b[0;34m)\u001b[0m\u001b[0;34m\u001b[0m\u001b[0;34m\u001b[0m\u001b[0m\n\u001b[0m\u001b[1;32m    108\u001b[0m     \u001b[0;32mif\u001b[0m \u001b[0mmtx1\u001b[0m\u001b[0;34m.\u001b[0m\u001b[0msize\u001b[0m \u001b[0;34m==\u001b[0m \u001b[0;36m0\u001b[0m\u001b[0;34m:\u001b[0m\u001b[0;34m\u001b[0m\u001b[0;34m\u001b[0m\u001b[0m\n\u001b[1;32m    109\u001b[0m         \u001b[0;32mraise\u001b[0m \u001b[0mValueError\u001b[0m\u001b[0;34m(\u001b[0m\u001b[0;34m\"Input matrices must be >0 rows and >0 cols\"\u001b[0m\u001b[0;34m)\u001b[0m\u001b[0;34m\u001b[0m\u001b[0;34m\u001b[0m\u001b[0m\n",
      "\u001b[0;31mValueError\u001b[0m: Input matrices must be of same shape"
     ]
    }
   ],
   "source": [
    "procrustes(train_features_np, test_features_np)"
   ]
  },
  {
   "cell_type": "markdown",
   "metadata": {},
   "source": [
    "# Prepare folds"
   ]
  },
  {
   "cell_type": "code",
   "execution_count": 16,
   "metadata": {},
   "outputs": [
    {
     "data": {
      "text/html": [
       "<div>\n",
       "<style scoped>\n",
       "    .dataframe tbody tr th:only-of-type {\n",
       "        vertical-align: middle;\n",
       "    }\n",
       "\n",
       "    .dataframe tbody tr th {\n",
       "        vertical-align: top;\n",
       "    }\n",
       "\n",
       "    .dataframe thead th {\n",
       "        text-align: right;\n",
       "    }\n",
       "</style>\n",
       "<table border=\"1\" class=\"dataframe\">\n",
       "  <thead>\n",
       "    <tr style=\"text-align: right;\">\n",
       "      <th></th>\n",
       "      <th>Id</th>\n",
       "      <th>age</th>\n",
       "      <th>domain1_var1</th>\n",
       "      <th>domain1_var2</th>\n",
       "      <th>domain2_var1</th>\n",
       "      <th>domain2_var2</th>\n",
       "      <th>fold</th>\n",
       "    </tr>\n",
       "  </thead>\n",
       "  <tbody>\n",
       "    <tr>\n",
       "      <th>0</th>\n",
       "      <td>10001</td>\n",
       "      <td>57.436077</td>\n",
       "      <td>30.571975</td>\n",
       "      <td>62.553736</td>\n",
       "      <td>53.325130</td>\n",
       "      <td>51.427998</td>\n",
       "      <td>2</td>\n",
       "    </tr>\n",
       "    <tr>\n",
       "      <th>1</th>\n",
       "      <td>10002</td>\n",
       "      <td>59.580851</td>\n",
       "      <td>50.969456</td>\n",
       "      <td>67.470628</td>\n",
       "      <td>60.651856</td>\n",
       "      <td>58.311361</td>\n",
       "      <td>3</td>\n",
       "    </tr>\n",
       "    <tr>\n",
       "      <th>2</th>\n",
       "      <td>10004</td>\n",
       "      <td>71.413018</td>\n",
       "      <td>53.152498</td>\n",
       "      <td>58.012103</td>\n",
       "      <td>52.418389</td>\n",
       "      <td>62.536641</td>\n",
       "      <td>3</td>\n",
       "    </tr>\n",
       "    <tr>\n",
       "      <th>3</th>\n",
       "      <td>10007</td>\n",
       "      <td>38.617381</td>\n",
       "      <td>49.197021</td>\n",
       "      <td>65.674285</td>\n",
       "      <td>40.151376</td>\n",
       "      <td>34.096421</td>\n",
       "      <td>4</td>\n",
       "    </tr>\n",
       "    <tr>\n",
       "      <th>4</th>\n",
       "      <td>10008</td>\n",
       "      <td>35.326582</td>\n",
       "      <td>15.769168</td>\n",
       "      <td>65.782269</td>\n",
       "      <td>44.643805</td>\n",
       "      <td>50.448485</td>\n",
       "      <td>4</td>\n",
       "    </tr>\n",
       "  </tbody>\n",
       "</table>\n",
       "</div>"
      ],
      "text/plain": [
       "      Id        age  domain1_var1  domain1_var2  domain2_var1  domain2_var2  \\\n",
       "0  10001  57.436077     30.571975     62.553736     53.325130     51.427998   \n",
       "1  10002  59.580851     50.969456     67.470628     60.651856     58.311361   \n",
       "2  10004  71.413018     53.152498     58.012103     52.418389     62.536641   \n",
       "3  10007  38.617381     49.197021     65.674285     40.151376     34.096421   \n",
       "4  10008  35.326582     15.769168     65.782269     44.643805     50.448485   \n",
       "\n",
       "   fold  \n",
       "0     2  \n",
       "1     3  \n",
       "2     3  \n",
       "3     4  \n",
       "4     4  "
      ]
     },
     "execution_count": 16,
     "metadata": {},
     "output_type": "execute_result"
    }
   ],
   "source": [
    "folds = train[[ID]+TARGET_COLS].copy()\n",
    "Fold = KFold(n_splits=N_FOLD, shuffle=True, random_state=SEED)\n",
    "for n, (train_index, val_index) in enumerate(Fold.split(folds, folds[TARGET_COLS])):\n",
    "    folds.loc[val_index, 'fold'] = int(n)\n",
    "folds['fold'] = folds['fold'].astype(int)\n",
    "folds.head()"
   ]
  },
  {
   "cell_type": "markdown",
   "metadata": {},
   "source": [
    "# MODEL"
   ]
  },
  {
   "cell_type": "code",
   "execution_count": 17,
   "metadata": {},
   "outputs": [],
   "source": [
    "#===========================================================\n",
    "# model\n",
    "#===========================================================\n",
    "def run_single_lightgbm(param, train_df, test_df, folds, features, target, fold_num=0, categorical=[]):\n",
    "    \n",
    "    trn_idx = folds[folds.fold != fold_num].index\n",
    "    val_idx = folds[folds.fold == fold_num].index\n",
    "    logger.info(f'len(trn_idx) : {len(trn_idx)}')\n",
    "    logger.info(f'len(val_idx) : {len(val_idx)}')\n",
    "    \n",
    "    if categorical == []:\n",
    "        trn_data = lgb.Dataset(train_df.iloc[trn_idx][features],\n",
    "                               label=target.iloc[trn_idx])\n",
    "        val_data = lgb.Dataset(train_df.iloc[val_idx][features],\n",
    "                               label=target.iloc[val_idx])\n",
    "    else:\n",
    "        trn_data = lgb.Dataset(train_df.iloc[trn_idx][features],\n",
    "                               label=target.iloc[trn_idx],\n",
    "                               categorical_feature=categorical)\n",
    "        val_data = lgb.Dataset(train_df.iloc[val_idx][features],\n",
    "                               label=target.iloc[val_idx],\n",
    "                               categorical_feature=categorical)\n",
    "\n",
    "    oof = np.zeros(len(train_df))\n",
    "    predictions = np.zeros(len(test_df))\n",
    "\n",
    "    num_round = 10000\n",
    "\n",
    "    clf = lgb.train(param,\n",
    "                    trn_data,\n",
    "                    num_round,\n",
    "                    valid_sets=[trn_data, val_data],\n",
    "                    verbose_eval=100,\n",
    "                    early_stopping_rounds=100)\n",
    "\n",
    "    oof[val_idx] = clf.predict(train_df.iloc[val_idx][features], num_iteration=clf.best_iteration)\n",
    "\n",
    "    fold_importance_df = pd.DataFrame()\n",
    "    fold_importance_df[\"Feature\"] = features\n",
    "    fold_importance_df[\"importance\"] = clf.feature_importance(importance_type='gain')\n",
    "    fold_importance_df[\"fold\"] = fold_num\n",
    "\n",
    "    predictions += clf.predict(test_df[features], num_iteration=clf.best_iteration)\n",
    "    \n",
    "    # RMSE\n",
    "    logger.info(\"fold{} RMSE score: {:<8.5f}\".format(fold_num, np.sqrt(mean_squared_error(target[val_idx], oof[val_idx]))))\n",
    "    \n",
    "    return oof, predictions, fold_importance_df\n",
    "\n",
    "\n",
    "def run_kfold_lightgbm(param, train, test, folds, features, target, n_fold=5, categorical=[]):\n",
    "    \n",
    "    logger.info(f\"================================= {n_fold}fold lightgbm =================================\")\n",
    "    \n",
    "    oof = np.zeros(len(train))\n",
    "    predictions = np.zeros(len(test))\n",
    "    feature_importance_df = pd.DataFrame()\n",
    "\n",
    "    for fold_ in range(n_fold):\n",
    "        print(\"Fold {}\".format(fold_))\n",
    "        _oof, _predictions, fold_importance_df = run_single_lightgbm(param,\n",
    "                                                                     train,\n",
    "                                                                     test,\n",
    "                                                                     folds,\n",
    "                                                                     features,\n",
    "                                                                     target,\n",
    "                                                                     fold_num=fold_,\n",
    "                                                                     categorical=categorical)\n",
    "        feature_importance_df = pd.concat([feature_importance_df, fold_importance_df], axis=0)\n",
    "        oof += _oof\n",
    "        predictions += _predictions / n_fold\n",
    "\n",
    "    # RMSE\n",
    "    logger.info(\"CV RMSE score: {:<8.5f}\".format(np.sqrt(mean_squared_error(target, oof))))\n",
    "\n",
    "    logger.info(f\"=========================================================================================\")\n",
    "    \n",
    "    return feature_importance_df, predictions, oof\n",
    "\n",
    "    \n",
    "def show_feature_importance(feature_importance_df, name):\n",
    "    cols = (feature_importance_df[[\"Feature\", \"importance\"]]\n",
    "            .groupby(\"Feature\")\n",
    "            .mean()\n",
    "            .sort_values(by=\"importance\", ascending=False)[:50].index)\n",
    "    best_features = feature_importance_df.loc[feature_importance_df.Feature.isin(cols)]\n",
    "\n",
    "    plt.figure(figsize=(8, 16))\n",
    "    sns.barplot(x=\"importance\", y=\"Feature\", data=best_features.sort_values(by=\"importance\", ascending=False))\n",
    "    plt.title('Features importance (averaged/folds)')\n",
    "    plt.tight_layout()\n",
    "    plt.savefig(OUTPUT_DICT+f'feature_importance_{name}.png')"
   ]
  },
  {
   "cell_type": "code",
   "execution_count": 18,
   "metadata": {},
   "outputs": [
    {
     "name": "stderr",
     "output_type": "stream",
     "text": [
      "### LGB for age ###\n",
      "================================= 5fold lightgbm =================================\n",
      "len(trn_idx) : 4347\n",
      "len(val_idx) : 1087\n"
     ]
    },
    {
     "name": "stdout",
     "output_type": "stream",
     "text": [
      "Fold 0\n",
      "Training until validation scores don't improve for 100 rounds\n",
      "[100]\ttraining's rmse: 7.34648\tvalid_1's rmse: 9.74318\n",
      "[200]\ttraining's rmse: 5.04386\tvalid_1's rmse: 9.49431\n",
      "[300]\ttraining's rmse: 3.58289\tvalid_1's rmse: 9.43487\n",
      "[400]\ttraining's rmse: 2.61349\tvalid_1's rmse: 9.40692\n",
      "[500]\ttraining's rmse: 1.93179\tvalid_1's rmse: 9.39094\n",
      "[600]\ttraining's rmse: 1.43731\tvalid_1's rmse: 9.38574\n",
      "[700]\ttraining's rmse: 1.0772\tvalid_1's rmse: 9.38519\n",
      "[800]\ttraining's rmse: 0.808419\tvalid_1's rmse: 9.38138\n",
      "[900]\ttraining's rmse: 0.610633\tvalid_1's rmse: 9.38027\n",
      "Early stopping, best iteration is:\n",
      "[822]\ttraining's rmse: 0.759882\tvalid_1's rmse: 9.37938\n"
     ]
    },
    {
     "name": "stderr",
     "output_type": "stream",
     "text": [
      "fold0 RMSE score: 9.37938 \n",
      "len(trn_idx) : 4347\n",
      "len(val_idx) : 1087\n"
     ]
    },
    {
     "name": "stdout",
     "output_type": "stream",
     "text": [
      "Fold 1\n",
      "Training until validation scores don't improve for 100 rounds\n",
      "[100]\ttraining's rmse: 7.34005\tvalid_1's rmse: 9.89701\n",
      "[200]\ttraining's rmse: 5.03558\tvalid_1's rmse: 9.65763\n",
      "[300]\ttraining's rmse: 3.59183\tvalid_1's rmse: 9.60578\n",
      "[400]\ttraining's rmse: 2.61976\tvalid_1's rmse: 9.58038\n",
      "[500]\ttraining's rmse: 1.93558\tvalid_1's rmse: 9.56676\n",
      "[600]\ttraining's rmse: 1.44651\tvalid_1's rmse: 9.5554\n",
      "[700]\ttraining's rmse: 1.09028\tvalid_1's rmse: 9.55404\n",
      "[800]\ttraining's rmse: 0.823433\tvalid_1's rmse: 9.54697\n",
      "[900]\ttraining's rmse: 0.623709\tvalid_1's rmse: 9.54387\n",
      "[1000]\ttraining's rmse: 0.474878\tvalid_1's rmse: 9.53983\n",
      "[1100]\ttraining's rmse: 0.361324\tvalid_1's rmse: 9.53802\n",
      "[1200]\ttraining's rmse: 0.275107\tvalid_1's rmse: 9.53716\n",
      "Early stopping, best iteration is:\n",
      "[1149]\ttraining's rmse: 0.316416\tvalid_1's rmse: 9.53643\n"
     ]
    },
    {
     "name": "stderr",
     "output_type": "stream",
     "text": [
      "fold1 RMSE score: 9.53643 \n",
      "len(trn_idx) : 4347\n",
      "len(val_idx) : 1087\n"
     ]
    },
    {
     "name": "stdout",
     "output_type": "stream",
     "text": [
      "Fold 2\n",
      "Training until validation scores don't improve for 100 rounds\n",
      "[100]\ttraining's rmse: 7.21194\tvalid_1's rmse: 10.6984\n",
      "[200]\ttraining's rmse: 4.96592\tvalid_1's rmse: 10.3868\n",
      "[300]\ttraining's rmse: 3.53754\tvalid_1's rmse: 10.3046\n",
      "[400]\ttraining's rmse: 2.56902\tvalid_1's rmse: 10.2884\n",
      "[500]\ttraining's rmse: 1.89699\tvalid_1's rmse: 10.2859\n",
      "[600]\ttraining's rmse: 1.41497\tvalid_1's rmse: 10.2732\n",
      "[700]\ttraining's rmse: 1.06425\tvalid_1's rmse: 10.2718\n",
      "[800]\ttraining's rmse: 0.805862\tvalid_1's rmse: 10.2663\n",
      "[900]\ttraining's rmse: 0.610573\tvalid_1's rmse: 10.2617\n",
      "[1000]\ttraining's rmse: 0.461619\tvalid_1's rmse: 10.2611\n",
      "[1100]\ttraining's rmse: 0.350158\tvalid_1's rmse: 10.261\n",
      "Early stopping, best iteration is:\n",
      "[1042]\ttraining's rmse: 0.409877\tvalid_1's rmse: 10.2599\n"
     ]
    },
    {
     "name": "stderr",
     "output_type": "stream",
     "text": [
      "fold2 RMSE score: 10.25990\n",
      "len(trn_idx) : 4347\n",
      "len(val_idx) : 1087\n"
     ]
    },
    {
     "name": "stdout",
     "output_type": "stream",
     "text": [
      "Fold 3\n",
      "Training until validation scores don't improve for 100 rounds\n",
      "[100]\ttraining's rmse: 7.25846\tvalid_1's rmse: 10.3224\n",
      "[200]\ttraining's rmse: 4.98862\tvalid_1's rmse: 10.066\n",
      "[300]\ttraining's rmse: 3.55914\tvalid_1's rmse: 9.98993\n",
      "[400]\ttraining's rmse: 2.59192\tvalid_1's rmse: 9.96638\n",
      "[500]\ttraining's rmse: 1.91885\tvalid_1's rmse: 9.95445\n",
      "[600]\ttraining's rmse: 1.43525\tvalid_1's rmse: 9.93387\n",
      "[700]\ttraining's rmse: 1.07951\tvalid_1's rmse: 9.93196\n",
      "[800]\ttraining's rmse: 0.815801\tvalid_1's rmse: 9.93408\n",
      "Early stopping, best iteration is:\n",
      "[724]\ttraining's rmse: 1.00986\tvalid_1's rmse: 9.93053\n"
     ]
    },
    {
     "name": "stderr",
     "output_type": "stream",
     "text": [
      "fold3 RMSE score: 9.93053 \n",
      "len(trn_idx) : 4348\n",
      "len(val_idx) : 1086\n"
     ]
    },
    {
     "name": "stdout",
     "output_type": "stream",
     "text": [
      "Fold 4\n",
      "Training until validation scores don't improve for 100 rounds\n",
      "[100]\ttraining's rmse: 7.3011\tvalid_1's rmse: 10.1202\n",
      "[200]\ttraining's rmse: 5.01614\tvalid_1's rmse: 9.89656\n",
      "[300]\ttraining's rmse: 3.56658\tvalid_1's rmse: 9.83963\n",
      "[400]\ttraining's rmse: 2.60239\tvalid_1's rmse: 9.83444\n",
      "[500]\ttraining's rmse: 1.92027\tvalid_1's rmse: 9.83624\n"
     ]
    },
    {
     "name": "stderr",
     "output_type": "stream",
     "text": [
      "fold4 RMSE score: 9.83030 \n"
     ]
    },
    {
     "name": "stdout",
     "output_type": "stream",
     "text": [
      "Early stopping, best iteration is:\n",
      "[427]\ttraining's rmse: 2.39749\tvalid_1's rmse: 9.8303\n"
     ]
    },
    {
     "name": "stderr",
     "output_type": "stream",
     "text": [
      "CV RMSE score: 9.79215 \n",
      "=========================================================================================\n",
      "### LGB for domain1_var1 ###\n",
      "================================= 5fold lightgbm =================================\n",
      "len(trn_idx) : 4347\n",
      "len(val_idx) : 1087\n"
     ]
    },
    {
     "name": "stdout",
     "output_type": "stream",
     "text": [
      "Fold 0\n",
      "Training until validation scores don't improve for 100 rounds\n",
      "[100]\ttraining's rmse: 6.97193\tvalid_1's rmse: 9.75\n",
      "[200]\ttraining's rmse: 5.02673\tvalid_1's rmse: 9.75818\n"
     ]
    },
    {
     "name": "stderr",
     "output_type": "stream",
     "text": [
      "fold0 RMSE score: 9.74200 \n",
      "len(trn_idx) : 4347\n",
      "len(val_idx) : 1087\n"
     ]
    },
    {
     "name": "stdout",
     "output_type": "stream",
     "text": [
      "Early stopping, best iteration is:\n",
      "[113]\ttraining's rmse: 6.67235\tvalid_1's rmse: 9.742\n",
      "Fold 1\n",
      "Training until validation scores don't improve for 100 rounds\n",
      "[100]\ttraining's rmse: 6.99428\tvalid_1's rmse: 9.58205\n",
      "[200]\ttraining's rmse: 5.02345\tvalid_1's rmse: 9.59687\n"
     ]
    },
    {
     "name": "stderr",
     "output_type": "stream",
     "text": [
      "fold1 RMSE score: 9.57694 \n",
      "len(trn_idx) : 4347\n",
      "len(val_idx) : 1087\n"
     ]
    },
    {
     "name": "stdout",
     "output_type": "stream",
     "text": [
      "Early stopping, best iteration is:\n",
      "[107]\ttraining's rmse: 6.82591\tvalid_1's rmse: 9.57694\n",
      "Fold 2\n",
      "Training until validation scores don't improve for 100 rounds\n",
      "[100]\ttraining's rmse: 6.98213\tvalid_1's rmse: 9.65881\n",
      "[200]\ttraining's rmse: 5.04504\tvalid_1's rmse: 9.63919\n"
     ]
    },
    {
     "name": "stderr",
     "output_type": "stream",
     "text": [
      "fold2 RMSE score: 9.63033 \n",
      "len(trn_idx) : 4347\n"
     ]
    },
    {
     "name": "stdout",
     "output_type": "stream",
     "text": [
      "Early stopping, best iteration is:\n",
      "[179]\ttraining's rmse: 5.37893\tvalid_1's rmse: 9.63033\n",
      "Fold 3\n"
     ]
    },
    {
     "name": "stderr",
     "output_type": "stream",
     "text": [
      "len(val_idx) : 1087\n"
     ]
    },
    {
     "name": "stdout",
     "output_type": "stream",
     "text": [
      "Training until validation scores don't improve for 100 rounds\n",
      "[100]\ttraining's rmse: 6.91428\tvalid_1's rmse: 9.92757\n",
      "[200]\ttraining's rmse: 4.97673\tvalid_1's rmse: 9.92412\n",
      "[300]\ttraining's rmse: 3.6642\tvalid_1's rmse: 9.92023\n"
     ]
    },
    {
     "name": "stderr",
     "output_type": "stream",
     "text": [
      "fold3 RMSE score: 9.90928 \n",
      "len(trn_idx) : 4348\n",
      "len(val_idx) : 1086\n"
     ]
    },
    {
     "name": "stdout",
     "output_type": "stream",
     "text": [
      "Early stopping, best iteration is:\n",
      "[233]\ttraining's rmse: 4.4921\tvalid_1's rmse: 9.90928\n",
      "Fold 4\n",
      "Training until validation scores don't improve for 100 rounds\n",
      "[100]\ttraining's rmse: 6.91609\tvalid_1's rmse: 10.0698\n",
      "[200]\ttraining's rmse: 5.00097\tvalid_1's rmse: 10.0206\n",
      "[300]\ttraining's rmse: 3.69541\tvalid_1's rmse: 9.99637\n",
      "[400]\ttraining's rmse: 2.76849\tvalid_1's rmse: 9.97578\n",
      "[500]\ttraining's rmse: 2.08624\tvalid_1's rmse: 9.97592\n"
     ]
    },
    {
     "name": "stderr",
     "output_type": "stream",
     "text": [
      "fold4 RMSE score: 9.97283 \n"
     ]
    },
    {
     "name": "stdout",
     "output_type": "stream",
     "text": [
      "Early stopping, best iteration is:\n",
      "[432]\ttraining's rmse: 2.53224\tvalid_1's rmse: 9.97283\n"
     ]
    },
    {
     "name": "stderr",
     "output_type": "stream",
     "text": [
      "CV RMSE score: 9.76745 \n",
      "=========================================================================================\n",
      "### LGB for domain1_var2 ###\n",
      "================================= 5fold lightgbm =================================\n",
      "len(trn_idx) : 4347\n",
      "len(val_idx) : 1087\n"
     ]
    },
    {
     "name": "stdout",
     "output_type": "stream",
     "text": [
      "Fold 0\n",
      "Training until validation scores don't improve for 100 rounds\n",
      "[100]\ttraining's rmse: 8.10755\tvalid_1's rmse: 11.509\n"
     ]
    },
    {
     "name": "stderr",
     "output_type": "stream",
     "text": [
      "fold0 RMSE score: 11.44643\n",
      "len(trn_idx) : 4347\n",
      "len(val_idx) : 1087\n"
     ]
    },
    {
     "name": "stdout",
     "output_type": "stream",
     "text": [
      "Early stopping, best iteration is:\n",
      "[8]\ttraining's rmse: 11.0344\tvalid_1's rmse: 11.4464\n",
      "Fold 1\n",
      "Training until validation scores don't improve for 100 rounds\n",
      "[100]\ttraining's rmse: 8.10829\tvalid_1's rmse: 11.4794\n"
     ]
    },
    {
     "name": "stderr",
     "output_type": "stream",
     "text": [
      "fold1 RMSE score: 11.42792\n",
      "len(trn_idx) : 4347\n",
      "len(val_idx) : 1087\n"
     ]
    },
    {
     "name": "stdout",
     "output_type": "stream",
     "text": [
      "Early stopping, best iteration is:\n",
      "[28]\ttraining's rmse: 10.301\tvalid_1's rmse: 11.4279\n",
      "Fold 2\n",
      "Training until validation scores don't improve for 100 rounds\n",
      "[100]\ttraining's rmse: 8.1124\tvalid_1's rmse: 11.3747\n"
     ]
    },
    {
     "name": "stderr",
     "output_type": "stream",
     "text": [
      "fold2 RMSE score: 11.24980\n",
      "len(trn_idx) : 4347\n",
      "len(val_idx) : 1087\n"
     ]
    },
    {
     "name": "stdout",
     "output_type": "stream",
     "text": [
      "Early stopping, best iteration is:\n",
      "[28]\ttraining's rmse: 10.3151\tvalid_1's rmse: 11.2498\n",
      "Fold 3\n",
      "Training until validation scores don't improve for 100 rounds\n",
      "[100]\ttraining's rmse: 8.03362\tvalid_1's rmse: 11.5743\n"
     ]
    },
    {
     "name": "stderr",
     "output_type": "stream",
     "text": [
      "fold3 RMSE score: 11.42045\n",
      "len(trn_idx) : 4348\n",
      "len(val_idx) : 1086\n"
     ]
    },
    {
     "name": "stdout",
     "output_type": "stream",
     "text": [
      "Early stopping, best iteration is:\n",
      "[4]\ttraining's rmse: 11.203\tvalid_1's rmse: 11.4204\n",
      "Fold 4\n",
      "Training until validation scores don't improve for 100 rounds\n",
      "[100]\ttraining's rmse: 8.10556\tvalid_1's rmse: 11.3923\n"
     ]
    },
    {
     "name": "stderr",
     "output_type": "stream",
     "text": [
      "fold4 RMSE score: 11.34475\n",
      "CV RMSE score: 11.37811\n",
      "=========================================================================================\n"
     ]
    },
    {
     "name": "stdout",
     "output_type": "stream",
     "text": [
      "Early stopping, best iteration is:\n",
      "[50]\ttraining's rmse: 9.5384\tvalid_1's rmse: 11.3447\n"
     ]
    },
    {
     "name": "stderr",
     "output_type": "stream",
     "text": [
      "### LGB for domain2_var1 ###\n",
      "================================= 5fold lightgbm =================================\n",
      "len(trn_idx) : 4347\n",
      "len(val_idx) : 1087\n"
     ]
    },
    {
     "name": "stdout",
     "output_type": "stream",
     "text": [
      "Fold 0\n",
      "Training until validation scores don't improve for 100 rounds\n",
      "[100]\ttraining's rmse: 7.76127\tvalid_1's rmse: 10.7391\n"
     ]
    },
    {
     "name": "stderr",
     "output_type": "stream",
     "text": [
      "fold0 RMSE score: 10.69713\n",
      "len(trn_idx) : 4347\n",
      "len(val_idx) : 1087\n"
     ]
    },
    {
     "name": "stdout",
     "output_type": "stream",
     "text": [
      "Early stopping, best iteration is:\n",
      "[49]\ttraining's rmse: 9.264\tvalid_1's rmse: 10.6971\n",
      "Fold 1\n",
      "Training until validation scores don't improve for 100 rounds\n",
      "[100]\ttraining's rmse: 7.76044\tvalid_1's rmse: 10.924\n"
     ]
    },
    {
     "name": "stderr",
     "output_type": "stream",
     "text": [
      "fold1 RMSE score: 10.90684\n",
      "len(trn_idx) : 4347\n",
      "len(val_idx) : 1087\n"
     ]
    },
    {
     "name": "stdout",
     "output_type": "stream",
     "text": [
      "Early stopping, best iteration is:\n",
      "[91]\ttraining's rmse: 7.99806\tvalid_1's rmse: 10.9068\n",
      "Fold 2\n",
      "Training until validation scores don't improve for 100 rounds\n",
      "[100]\ttraining's rmse: 7.73504\tvalid_1's rmse: 11.0049\n"
     ]
    },
    {
     "name": "stderr",
     "output_type": "stream",
     "text": [
      "fold2 RMSE score: 10.98398\n",
      "len(trn_idx) : 4347\n",
      "len(val_idx) : 1087\n"
     ]
    },
    {
     "name": "stdout",
     "output_type": "stream",
     "text": [
      "Early stopping, best iteration is:\n",
      "[64]\ttraining's rmse: 8.7515\tvalid_1's rmse: 10.984\n",
      "Fold 3\n",
      "Training until validation scores don't improve for 100 rounds\n",
      "[100]\ttraining's rmse: 7.68046\tvalid_1's rmse: 11.1753\n"
     ]
    },
    {
     "name": "stderr",
     "output_type": "stream",
     "text": [
      "fold3 RMSE score: 11.14880\n",
      "len(trn_idx) : 4348\n",
      "len(val_idx) : 1086\n"
     ]
    },
    {
     "name": "stdout",
     "output_type": "stream",
     "text": [
      "Early stopping, best iteration is:\n",
      "[53]\ttraining's rmse: 9.04181\tvalid_1's rmse: 11.1488\n",
      "Fold 4\n",
      "Training until validation scores don't improve for 100 rounds\n",
      "[100]\ttraining's rmse: 7.72785\tvalid_1's rmse: 11.122\n",
      "[200]\ttraining's rmse: 5.64003\tvalid_1's rmse: 11.1005\n"
     ]
    },
    {
     "name": "stderr",
     "output_type": "stream",
     "text": [
      "fold4 RMSE score: 11.09093\n",
      "CV RMSE score: 10.96665\n",
      "=========================================================================================\n"
     ]
    },
    {
     "name": "stdout",
     "output_type": "stream",
     "text": [
      "Early stopping, best iteration is:\n",
      "[177]\ttraining's rmse: 6.05139\tvalid_1's rmse: 11.0909\n"
     ]
    },
    {
     "name": "stderr",
     "output_type": "stream",
     "text": [
      "### LGB for domain2_var2 ###\n",
      "================================= 5fold lightgbm =================================\n",
      "len(trn_idx) : 4347\n",
      "len(val_idx) : 1087\n"
     ]
    },
    {
     "name": "stdout",
     "output_type": "stream",
     "text": [
      "Fold 0\n",
      "Training until validation scores don't improve for 100 rounds\n",
      "[100]\ttraining's rmse: 8.27417\tvalid_1's rmse: 11.8868\n"
     ]
    },
    {
     "name": "stderr",
     "output_type": "stream",
     "text": [
      "fold0 RMSE score: 11.84395\n",
      "len(trn_idx) : 4347\n",
      "len(val_idx) : 1087\n"
     ]
    },
    {
     "name": "stdout",
     "output_type": "stream",
     "text": [
      "Early stopping, best iteration is:\n",
      "[44]\ttraining's rmse: 9.99683\tvalid_1's rmse: 11.844\n",
      "Fold 1\n",
      "Training until validation scores don't improve for 100 rounds\n",
      "[100]\ttraining's rmse: 8.32998\tvalid_1's rmse: 11.5399\n",
      "[200]\ttraining's rmse: 6.07533\tvalid_1's rmse: 11.614\n"
     ]
    },
    {
     "name": "stderr",
     "output_type": "stream",
     "text": [
      "fold1 RMSE score: 11.53463\n",
      "len(trn_idx) : 4347\n",
      "len(val_idx) : 1087\n"
     ]
    },
    {
     "name": "stdout",
     "output_type": "stream",
     "text": [
      "Early stopping, best iteration is:\n",
      "[102]\ttraining's rmse: 8.27332\tvalid_1's rmse: 11.5346\n",
      "Fold 2\n",
      "Training until validation scores don't improve for 100 rounds\n",
      "[100]\ttraining's rmse: 8.254\tvalid_1's rmse: 11.8516\n"
     ]
    },
    {
     "name": "stderr",
     "output_type": "stream",
     "text": [
      "fold2 RMSE score: 11.80423\n",
      "len(trn_idx) : 4347\n",
      "len(val_idx) : 1087\n"
     ]
    },
    {
     "name": "stdout",
     "output_type": "stream",
     "text": [
      "Early stopping, best iteration is:\n",
      "[16]\ttraining's rmse: 11.0739\tvalid_1's rmse: 11.8042\n",
      "Fold 3\n",
      "Training until validation scores don't improve for 100 rounds\n",
      "[100]\ttraining's rmse: 8.28122\tvalid_1's rmse: 11.8413\n"
     ]
    },
    {
     "name": "stderr",
     "output_type": "stream",
     "text": [
      "fold3 RMSE score: 11.80610\n",
      "len(trn_idx) : 4348\n",
      "len(val_idx) : 1086\n"
     ]
    },
    {
     "name": "stdout",
     "output_type": "stream",
     "text": [
      "Early stopping, best iteration is:\n",
      "[40]\ttraining's rmse: 10.1453\tvalid_1's rmse: 11.8061\n",
      "Fold 4\n",
      "Training until validation scores don't improve for 100 rounds\n",
      "[100]\ttraining's rmse: 8.29685\tvalid_1's rmse: 11.6689\n"
     ]
    },
    {
     "name": "stderr",
     "output_type": "stream",
     "text": [
      "fold4 RMSE score: 11.62770\n",
      "CV RMSE score: 11.72396\n",
      "=========================================================================================\n"
     ]
    },
    {
     "name": "stdout",
     "output_type": "stream",
     "text": [
      "Early stopping, best iteration is:\n",
      "[17]\ttraining's rmse: 11.0743\tvalid_1's rmse: 11.6277\n"
     ]
    },
    {
     "data": {
      "image/png": "[encoded data removed]",
      "text/plain": [
       "<Figure size 576x1152 with 1 Axes>"
      ]
     },
     "metadata": {
      "needs_background": "light"
     },
     "output_type": "display_data"
    },
    {
     "data": {
      "image/png": "[encoded data removed]",
      "text/plain": [
       "<Figure size 576x1152 with 1 Axes>"
      ]
     },
     "metadata": {
      "needs_background": "light"
     },
     "output_type": "display_data"
    },
    {
     "data": {
      "image/png": "[encoded data removed]",
      "text/plain": [
       "<Figure size 576x1152 with 1 Axes>"
      ]
     },
     "metadata": {
      "needs_background": "light"
     },
     "output_type": "display_data"
    },
    {
     "data": {
      "image/png": "[encoded data removed]",
      "text/plain": [
       "<Figure size 576x1152 with 1 Axes>"
      ]
     },
     "metadata": {
      "needs_background": "light"
     },
     "output_type": "display_data"
    },
    {
     "data": {
      "image/png": "[encoded data removed]",
      "text/plain": [
       "<Figure size 576x1152 with 1 Axes>"
      ]
     },
     "metadata": {
      "needs_background": "light"
     },
     "output_type": "display_data"
    }
   ],
   "source": [
    "prediction_dict = {}\n",
    "oof_dict = {}\n",
    "\n",
    "for TARGET in TARGET_COLS:\n",
    "    \n",
    "    logger.info(f'### LGB for {TARGET} ###')\n",
    "\n",
    "    target = train[TARGET]\n",
    "    test[TARGET] = np.nan\n",
    "\n",
    "    # features\n",
    "    cat_features = []\n",
    "    num_features = [c for c in test.columns if (test.dtypes[c] != 'object') & (c not in cat_features)]\n",
    "    features = num_features + cat_features\n",
    "    drop_features = [ID] + TARGET_COLS\n",
    "    features = [c for c in features if c not in drop_features]\n",
    "\n",
    "    if cat_features:\n",
    "        ce_oe = ce.OrdinalEncoder(cols=cat_features, handle_unknown='impute')\n",
    "        ce_oe.fit(train)\n",
    "        train = ce_oe.transform(train)\n",
    "        test = ce_oe.transform(test)\n",
    "        \n",
    "    lgb_param = {'objective': 'regression',\n",
    "             'metric': 'rmse',\n",
    "             'boosting_type': 'gbdt',\n",
    "             'learning_rate': 0.03,\n",
    "             'seed': SEED,\n",
    "             'max_depth': -1,\n",
    "             'verbosity': -1,\n",
    "            }\n",
    "\n",
    "    feature_importance_df, predictions, oof = run_kfold_lightgbm(lgb_param, train, test, folds, features, target, \n",
    "                                                                 n_fold=N_FOLD, categorical=cat_features)\n",
    "    \n",
    "    prediction_dict[TARGET] = predictions\n",
    "    oof_dict[TARGET] = oof\n",
    "    \n",
    "    show_feature_importance(feature_importance_df, TARGET)"
   ]
  },
  {
   "cell_type": "code",
   "execution_count": 19,
   "metadata": {},
   "outputs": [],
   "source": [
    "oof_df = pd.DataFrame()\n",
    "\n",
    "for TARGET in TARGET_COLS:\n",
    "    oof_df[TARGET] = oof_dict[TARGET]"
   ]
  },
  {
   "cell_type": "code",
   "execution_count": 20,
   "metadata": {},
   "outputs": [],
   "source": [
    "# https://www.kaggle.com/akurmukov/trends-starter-rf-0-168-lb-metric\n",
    "\n",
    "def lb_metric(y_true, y_pred):\n",
    "    '''Computes lb metric, both y_true and y_pred should be DataFrames of shape n x 5'''\n",
    "    y_true = y_true[['age', 'domain1_var1', 'domain1_var2','domain2_var1','domain2_var2']]\n",
    "    y_pred = y_pred[['age', 'domain1_var1', 'domain1_var2','domain2_var1','domain2_var2']]\n",
    "    weights = np.array([.3, .175, .175, .175, .175])\n",
    "    return np.sum(weights * np.abs(y_pred.values - y_true.values).sum(axis=0) / y_true.values.sum(axis=0))"
   ]
  },
  {
   "cell_type": "code",
   "execution_count": 21,
   "metadata": {},
   "outputs": [
    {
     "name": "stderr",
     "output_type": "stream",
     "text": [
      "Local Score: 0.16310638840093822\n"
     ]
    }
   ],
   "source": [
    "score = lb_metric(train, oof_df)\n",
    "logger.info(f'Local Score: {score}')"
   ]
  },
  {
   "cell_type": "markdown",
   "metadata": {},
   "source": [
    "# Submission"
   ]
  },
  {
   "cell_type": "code",
   "execution_count": 22,
   "metadata": {},
   "outputs": [
    {
     "data": {
      "text/html": [
       "<div>\n",
       "<style scoped>\n",
       "    .dataframe tbody tr th:only-of-type {\n",
       "        vertical-align: middle;\n",
       "    }\n",
       "\n",
       "    .dataframe tbody tr th {\n",
       "        vertical-align: top;\n",
       "    }\n",
       "\n",
       "    .dataframe thead th {\n",
       "        text-align: right;\n",
       "    }\n",
       "</style>\n",
       "<table border=\"1\" class=\"dataframe\">\n",
       "  <thead>\n",
       "    <tr style=\"text-align: right;\">\n",
       "      <th></th>\n",
       "      <th>Id</th>\n",
       "      <th>Predicted</th>\n",
       "    </tr>\n",
       "  </thead>\n",
       "  <tbody>\n",
       "    <tr>\n",
       "      <th>0</th>\n",
       "      <td>10003_age</td>\n",
       "      <td>50.0</td>\n",
       "    </tr>\n",
       "    <tr>\n",
       "      <th>1</th>\n",
       "      <td>10003_domain1_var1</td>\n",
       "      <td>50.0</td>\n",
       "    </tr>\n",
       "    <tr>\n",
       "      <th>2</th>\n",
       "      <td>10003_domain1_var2</td>\n",
       "      <td>50.0</td>\n",
       "    </tr>\n",
       "    <tr>\n",
       "      <th>3</th>\n",
       "      <td>10003_domain2_var1</td>\n",
       "      <td>50.0</td>\n",
       "    </tr>\n",
       "    <tr>\n",
       "      <th>4</th>\n",
       "      <td>10003_domain2_var2</td>\n",
       "      <td>50.0</td>\n",
       "    </tr>\n",
       "  </tbody>\n",
       "</table>\n",
       "</div>"
      ],
      "text/plain": [
       "                   Id  Predicted\n",
       "0           10003_age       50.0\n",
       "1  10003_domain1_var1       50.0\n",
       "2  10003_domain1_var2       50.0\n",
       "3  10003_domain2_var1       50.0\n",
       "4  10003_domain2_var2       50.0"
      ]
     },
     "execution_count": 22,
     "metadata": {},
     "output_type": "execute_result"
    }
   ],
   "source": [
    "sample_submission.head()"
   ]
  },
  {
   "cell_type": "code",
   "execution_count": 23,
   "metadata": {},
   "outputs": [
    {
     "name": "stdout",
     "output_type": "stream",
     "text": [
      "(29385, 2)\n",
      "(29385, 2)\n"
     ]
    },
    {
     "data": {
      "text/html": [
       "<div>\n",
       "<style scoped>\n",
       "    .dataframe tbody tr th:only-of-type {\n",
       "        vertical-align: middle;\n",
       "    }\n",
       "\n",
       "    .dataframe tbody tr th {\n",
       "        vertical-align: top;\n",
       "    }\n",
       "\n",
       "    .dataframe thead th {\n",
       "        text-align: right;\n",
       "    }\n",
       "</style>\n",
       "<table border=\"1\" class=\"dataframe\">\n",
       "  <thead>\n",
       "    <tr style=\"text-align: right;\">\n",
       "      <th></th>\n",
       "      <th>Id</th>\n",
       "      <th>Predicted</th>\n",
       "    </tr>\n",
       "  </thead>\n",
       "  <tbody>\n",
       "    <tr>\n",
       "      <th>0</th>\n",
       "      <td>10003_age</td>\n",
       "      <td>49.718728</td>\n",
       "    </tr>\n",
       "    <tr>\n",
       "      <th>1</th>\n",
       "      <td>10006_age</td>\n",
       "      <td>57.668842</td>\n",
       "    </tr>\n",
       "    <tr>\n",
       "      <th>2</th>\n",
       "      <td>10010_age</td>\n",
       "      <td>40.945921</td>\n",
       "    </tr>\n",
       "    <tr>\n",
       "      <th>3</th>\n",
       "      <td>10011_age</td>\n",
       "      <td>46.941959</td>\n",
       "    </tr>\n",
       "    <tr>\n",
       "      <th>4</th>\n",
       "      <td>10012_age</td>\n",
       "      <td>56.223087</td>\n",
       "    </tr>\n",
       "  </tbody>\n",
       "</table>\n",
       "</div>"
      ],
      "text/plain": [
       "          Id  Predicted\n",
       "0  10003_age  49.718728\n",
       "1  10006_age  57.668842\n",
       "2  10010_age  40.945921\n",
       "3  10011_age  46.941959\n",
       "4  10012_age  56.223087"
      ]
     },
     "execution_count": 23,
     "metadata": {},
     "output_type": "execute_result"
    }
   ],
   "source": [
    "pred_df = pd.DataFrame()\n",
    "\n",
    "for TARGET in TARGET_COLS:\n",
    "    tmp = pd.DataFrame()\n",
    "    tmp[ID] = [f'{c}_{TARGET}' for c in test[ID].values]\n",
    "    tmp['Predicted'] = prediction_dict[TARGET]\n",
    "    pred_df = pd.concat([pred_df, tmp])\n",
    "\n",
    "print(pred_df.shape)\n",
    "print(sample_submission.shape)\n",
    "\n",
    "pred_df.head()"
   ]
  },
  {
   "cell_type": "code",
   "execution_count": 24,
   "metadata": {},
   "outputs": [
    {
     "name": "stdout",
     "output_type": "stream",
     "text": [
      "(29385, 2)\n"
     ]
    },
    {
     "data": {
      "text/html": [
       "<div>\n",
       "<style scoped>\n",
       "    .dataframe tbody tr th:only-of-type {\n",
       "        vertical-align: middle;\n",
       "    }\n",
       "\n",
       "    .dataframe tbody tr th {\n",
       "        vertical-align: top;\n",
       "    }\n",
       "\n",
       "    .dataframe thead th {\n",
       "        text-align: right;\n",
       "    }\n",
       "</style>\n",
       "<table border=\"1\" class=\"dataframe\">\n",
       "  <thead>\n",
       "    <tr style=\"text-align: right;\">\n",
       "      <th></th>\n",
       "      <th>Id</th>\n",
       "      <th>Predicted</th>\n",
       "    </tr>\n",
       "  </thead>\n",
       "  <tbody>\n",
       "    <tr>\n",
       "      <th>0</th>\n",
       "      <td>10003_age</td>\n",
       "      <td>49.718728</td>\n",
       "    </tr>\n",
       "    <tr>\n",
       "      <th>1</th>\n",
       "      <td>10003_domain1_var1</td>\n",
       "      <td>50.292961</td>\n",
       "    </tr>\n",
       "    <tr>\n",
       "      <th>2</th>\n",
       "      <td>10003_domain1_var2</td>\n",
       "      <td>59.009396</td>\n",
       "    </tr>\n",
       "    <tr>\n",
       "      <th>3</th>\n",
       "      <td>10003_domain2_var1</td>\n",
       "      <td>47.947973</td>\n",
       "    </tr>\n",
       "    <tr>\n",
       "      <th>4</th>\n",
       "      <td>10003_domain2_var2</td>\n",
       "      <td>53.619966</td>\n",
       "    </tr>\n",
       "  </tbody>\n",
       "</table>\n",
       "</div>"
      ],
      "text/plain": [
       "                   Id  Predicted\n",
       "0           10003_age  49.718728\n",
       "1  10003_domain1_var1  50.292961\n",
       "2  10003_domain1_var2  59.009396\n",
       "3  10003_domain2_var1  47.947973\n",
       "4  10003_domain2_var2  53.619966"
      ]
     },
     "execution_count": 24,
     "metadata": {},
     "output_type": "execute_result"
    }
   ],
   "source": [
    "submission = sample_submission.drop(columns='Predicted').merge(pred_df, on=ID, how='left')\n",
    "print(submission.shape)\n",
    "submission.to_csv('submission.csv', index=False)\n",
    "submission.head()"
   ]
  },
  {
   "cell_type": "code",
   "execution_count": null,
   "metadata": {},
   "outputs": [],
   "source": []
  }
 ],
 "metadata": {
  "kernelspec": {
   "display_name": "Python 3",
   "language": "python",
   "name": "python3"
  },
  "language_info": {
   "codemirror_mode": {
    "name": "ipython",
    "version": 3
   },
   "file_extension": ".py",
   "mimetype": "text/x-python",
   "name": "python",
   "nbconvert_exporter": "python",
   "pygments_lexer": "ipython3",
   "version": "3.7.6"
  }
 },
 "nbformat": 4,
 "nbformat_minor": 4
}
